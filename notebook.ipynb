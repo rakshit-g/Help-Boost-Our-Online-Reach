{
 "cells": [
  {
   "cell_type": "markdown",
   "metadata": {},
   "source": [
    "# INCLUDING LIBRARIES"
   ]
  },
  {
   "cell_type": "code",
   "execution_count": 248,
   "metadata": {},
   "outputs": [],
   "source": [
    "import numpy as np\n",
    "import pandas as pd\n",
    "import seaborn as sns\n",
    "import matplotlib.pyplot as plt\n",
    "from sklearn import model_selection\n",
    "from sklearn.preprocessing import LabelEncoder, StandardScaler\n",
    "import nltk\n",
    "from sklearn.feature_extraction.text import TfidfVectorizer, CountVectorizer, TfidfTransformer\n",
    "from sklearn.linear_model import LogisticRegression\n",
    "from sklearn.metrics import roc_auc_score\n",
    "from sklearn.ensemble import RandomForestClassifier\n",
    "from xgboost import XGBClassifier"
   ]
  },
  {
   "cell_type": "code",
   "execution_count": 249,
   "metadata": {},
   "outputs": [],
   "source": [
    "import warnings\n",
    "warnings.filterwarnings(\"ignore\")"
   ]
  },
  {
   "cell_type": "code",
   "execution_count": 250,
   "metadata": {},
   "outputs": [
    {
     "name": "stderr",
     "output_type": "stream",
     "text": [
      "[nltk_data] Downloading package stopwords to\n",
      "[nltk_data]     C:\\Users\\ronit\\AppData\\Roaming\\nltk_data...\n",
      "[nltk_data]   Package stopwords is already up-to-date!\n",
      "[nltk_data] Downloading package wordnet to\n",
      "[nltk_data]     C:\\Users\\ronit\\AppData\\Roaming\\nltk_data...\n",
      "[nltk_data]   Package wordnet is already up-to-date!\n"
     ]
    },
    {
     "data": {
      "text/plain": [
       "True"
      ]
     },
     "execution_count": 250,
     "metadata": {},
     "output_type": "execute_result"
    }
   ],
   "source": [
    "nltk.download('stopwords')\n",
    "nltk.download('wordnet')"
   ]
  },
  {
   "cell_type": "markdown",
   "metadata": {},
   "source": [
    "# READING DATA"
   ]
  },
  {
   "cell_type": "code",
   "execution_count": 251,
   "metadata": {},
   "outputs": [
    {
     "data": {
      "text/html": [
       "<div>\n",
       "<style scoped>\n",
       "    .dataframe tbody tr th:only-of-type {\n",
       "        vertical-align: middle;\n",
       "    }\n",
       "\n",
       "    .dataframe tbody tr th {\n",
       "        vertical-align: top;\n",
       "    }\n",
       "\n",
       "    .dataframe thead th {\n",
       "        text-align: right;\n",
       "    }\n",
       "</style>\n",
       "<table border=\"1\" class=\"dataframe\">\n",
       "  <thead>\n",
       "    <tr style=\"text-align: right;\">\n",
       "      <th></th>\n",
       "      <th>webpageDescription</th>\n",
       "      <th>alchemy_category</th>\n",
       "      <th>alchemy_category_score</th>\n",
       "      <th>avgLinkWordLength</th>\n",
       "      <th>AvglinkWithOneCommonWord</th>\n",
       "      <th>AvglinkWithTwoCommonWord</th>\n",
       "      <th>AvglinkWithThreeCommonWord</th>\n",
       "      <th>AvglinkWithFourCommonWord</th>\n",
       "      <th>redundancyMeasure</th>\n",
       "      <th>embedRatio</th>\n",
       "      <th>framebased</th>\n",
       "      <th>frameTagRatio</th>\n",
       "      <th>domainLink</th>\n",
       "      <th>tagRatio</th>\n",
       "      <th>imageTagRatio</th>\n",
       "      <th>isNews</th>\n",
       "      <th>lengthyDomain</th>\n",
       "      <th>hyperlinkToAllWordsRatio</th>\n",
       "      <th>isFrontPageNews</th>\n",
       "      <th>alphanumCharCount</th>\n",
       "      <th>linksCount</th>\n",
       "      <th>wordCount</th>\n",
       "      <th>parametrizedLinkRatio</th>\n",
       "      <th>spellingErrorsRatio</th>\n",
       "      <th>label</th>\n",
       "      <th>id</th>\n",
       "    </tr>\n",
       "  </thead>\n",
       "  <tbody>\n",
       "    <tr>\n",
       "      <th>0</th>\n",
       "      <td>{\"title\":\"Join Polyvore and follow the latest ...</td>\n",
       "      <td>?</td>\n",
       "      <td>?</td>\n",
       "      <td>1.916667</td>\n",
       "      <td>0.047619</td>\n",
       "      <td>0.007937</td>\n",
       "      <td>0.000000</td>\n",
       "      <td>0.000000</td>\n",
       "      <td>0.803797</td>\n",
       "      <td>0.0</td>\n",
       "      <td>0</td>\n",
       "      <td>0.027778</td>\n",
       "      <td>0</td>\n",
       "      <td>0.203161</td>\n",
       "      <td>3.120000</td>\n",
       "      <td>?</td>\n",
       "      <td>0</td>\n",
       "      <td>34</td>\n",
       "      <td>0</td>\n",
       "      <td>682</td>\n",
       "      <td>126</td>\n",
       "      <td>1</td>\n",
       "      <td>0.531746</td>\n",
       "      <td>0.142857</td>\n",
       "      <td>1.0</td>\n",
       "      <td>3711</td>\n",
       "    </tr>\n",
       "    <tr>\n",
       "      <th>1</th>\n",
       "      <td>{\"body\":\"Speed Air Man--David Belle david bell...</td>\n",
       "      <td>?</td>\n",
       "      <td>?</td>\n",
       "      <td>1.257576</td>\n",
       "      <td>0.141026</td>\n",
       "      <td>0.000000</td>\n",
       "      <td>0.000000</td>\n",
       "      <td>0.000000</td>\n",
       "      <td>1.142857</td>\n",
       "      <td>0.1</td>\n",
       "      <td>0</td>\n",
       "      <td>0.015086</td>\n",
       "      <td>0</td>\n",
       "      <td>0.168189</td>\n",
       "      <td>13.100000</td>\n",
       "      <td>?</td>\n",
       "      <td>0</td>\n",
       "      <td>12</td>\n",
       "      <td>0</td>\n",
       "      <td>3008</td>\n",
       "      <td>78</td>\n",
       "      <td>1</td>\n",
       "      <td>0.628205</td>\n",
       "      <td>0.000000</td>\n",
       "      <td>1.0</td>\n",
       "      <td>7222</td>\n",
       "    </tr>\n",
       "    <tr>\n",
       "      <th>2</th>\n",
       "      <td>{\"title\":\"Chicken Gruyere Recipe \",\"body\":\"Chi...</td>\n",
       "      <td>science_technology</td>\n",
       "      <td>0.386685</td>\n",
       "      <td>2.024000</td>\n",
       "      <td>0.630350</td>\n",
       "      <td>0.284047</td>\n",
       "      <td>0.233463</td>\n",
       "      <td>0.202335</td>\n",
       "      <td>0.443409</td>\n",
       "      <td>0.0</td>\n",
       "      <td>0</td>\n",
       "      <td>0.033935</td>\n",
       "      <td>0</td>\n",
       "      <td>0.192652</td>\n",
       "      <td>0.126582</td>\n",
       "      <td>1</td>\n",
       "      <td>1</td>\n",
       "      <td>17</td>\n",
       "      <td>0</td>\n",
       "      <td>11008</td>\n",
       "      <td>257</td>\n",
       "      <td>5</td>\n",
       "      <td>0.466926</td>\n",
       "      <td>0.062500</td>\n",
       "      <td>1.0</td>\n",
       "      <td>3964</td>\n",
       "    </tr>\n",
       "    <tr>\n",
       "      <th>3</th>\n",
       "      <td>{\"title\":\"Ikan Bilis With Tempeh Groundnuts \",...</td>\n",
       "      <td>recreation</td>\n",
       "      <td>0.475039</td>\n",
       "      <td>1.665254</td>\n",
       "      <td>0.419580</td>\n",
       "      <td>0.199301</td>\n",
       "      <td>0.097902</td>\n",
       "      <td>0.066434</td>\n",
       "      <td>0.472649</td>\n",
       "      <td>0.0</td>\n",
       "      <td>0</td>\n",
       "      <td>0.036530</td>\n",
       "      <td>0</td>\n",
       "      <td>0.198000</td>\n",
       "      <td>0.135593</td>\n",
       "      <td>1</td>\n",
       "      <td>1</td>\n",
       "      <td>28</td>\n",
       "      <td>0</td>\n",
       "      <td>4585</td>\n",
       "      <td>286</td>\n",
       "      <td>5</td>\n",
       "      <td>0.244755</td>\n",
       "      <td>0.085868</td>\n",
       "      <td>1.0</td>\n",
       "      <td>3697</td>\n",
       "    </tr>\n",
       "    <tr>\n",
       "      <th>4</th>\n",
       "      <td>{\"url\":\"recipes wuzzle org index php 72\",\"titl...</td>\n",
       "      <td>computer_internet</td>\n",
       "      <td>0.535009</td>\n",
       "      <td>0.181818</td>\n",
       "      <td>0.036364</td>\n",
       "      <td>0.000000</td>\n",
       "      <td>0.000000</td>\n",
       "      <td>0.000000</td>\n",
       "      <td>0.292614</td>\n",
       "      <td>0.0</td>\n",
       "      <td>0</td>\n",
       "      <td>0.015152</td>\n",
       "      <td>0</td>\n",
       "      <td>0.241564</td>\n",
       "      <td>0.054217</td>\n",
       "      <td>?</td>\n",
       "      <td>0</td>\n",
       "      <td>3</td>\n",
       "      <td>0</td>\n",
       "      <td>1745</td>\n",
       "      <td>55</td>\n",
       "      <td>1</td>\n",
       "      <td>0.072727</td>\n",
       "      <td>0.115044</td>\n",
       "      <td>1.0</td>\n",
       "      <td>4321</td>\n",
       "    </tr>\n",
       "  </tbody>\n",
       "</table>\n",
       "</div>"
      ],
      "text/plain": [
       "                                  webpageDescription    alchemy_category  \\\n",
       "0  {\"title\":\"Join Polyvore and follow the latest ...                   ?   \n",
       "1  {\"body\":\"Speed Air Man--David Belle david bell...                   ?   \n",
       "2  {\"title\":\"Chicken Gruyere Recipe \",\"body\":\"Chi...  science_technology   \n",
       "3  {\"title\":\"Ikan Bilis With Tempeh Groundnuts \",...          recreation   \n",
       "4  {\"url\":\"recipes wuzzle org index php 72\",\"titl...   computer_internet   \n",
       "\n",
       "  alchemy_category_score  avgLinkWordLength  AvglinkWithOneCommonWord  \\\n",
       "0                      ?           1.916667                  0.047619   \n",
       "1                      ?           1.257576                  0.141026   \n",
       "2               0.386685           2.024000                  0.630350   \n",
       "3               0.475039           1.665254                  0.419580   \n",
       "4               0.535009           0.181818                  0.036364   \n",
       "\n",
       "   AvglinkWithTwoCommonWord  AvglinkWithThreeCommonWord  \\\n",
       "0                  0.007937                    0.000000   \n",
       "1                  0.000000                    0.000000   \n",
       "2                  0.284047                    0.233463   \n",
       "3                  0.199301                    0.097902   \n",
       "4                  0.000000                    0.000000   \n",
       "\n",
       "   AvglinkWithFourCommonWord  redundancyMeasure  embedRatio  framebased  \\\n",
       "0                   0.000000           0.803797         0.0           0   \n",
       "1                   0.000000           1.142857         0.1           0   \n",
       "2                   0.202335           0.443409         0.0           0   \n",
       "3                   0.066434           0.472649         0.0           0   \n",
       "4                   0.000000           0.292614         0.0           0   \n",
       "\n",
       "   frameTagRatio  domainLink  tagRatio  imageTagRatio isNews  lengthyDomain  \\\n",
       "0       0.027778           0  0.203161       3.120000      ?              0   \n",
       "1       0.015086           0  0.168189      13.100000      ?              0   \n",
       "2       0.033935           0  0.192652       0.126582      1              1   \n",
       "3       0.036530           0  0.198000       0.135593      1              1   \n",
       "4       0.015152           0  0.241564       0.054217      ?              0   \n",
       "\n",
       "   hyperlinkToAllWordsRatio isFrontPageNews  alphanumCharCount  linksCount  \\\n",
       "0                        34               0                682         126   \n",
       "1                        12               0               3008          78   \n",
       "2                        17               0              11008         257   \n",
       "3                        28               0               4585         286   \n",
       "4                         3               0               1745          55   \n",
       "\n",
       "   wordCount  parametrizedLinkRatio  spellingErrorsRatio  label    id  \n",
       "0          1               0.531746             0.142857    1.0  3711  \n",
       "1          1               0.628205             0.000000    1.0  7222  \n",
       "2          5               0.466926             0.062500    1.0  3964  \n",
       "3          5               0.244755             0.085868    1.0  3697  \n",
       "4          1               0.072727             0.115044    1.0  4321  "
      ]
     },
     "execution_count": 251,
     "metadata": {},
     "output_type": "execute_result"
    }
   ],
   "source": [
    "df_train = pd.read_csv(\"train_data.csv\")\n",
    "df_test = pd.read_csv(\"test_data.csv\")\n",
    "\n",
    "# merging both train and test data for preprocessing\n",
    "df = df_train.append(df_test)\n",
    "\n",
    "df.drop(columns=['url'],inplace=True)\n",
    "pd.set_option(\"display.max_columns\",None)\n",
    "df.head()"
   ]
  },
  {
   "cell_type": "code",
   "execution_count": 252,
   "metadata": {},
   "outputs": [
    {
     "name": "stdout",
     "output_type": "stream",
     "text": [
      "1    3060\n",
      "0    2856\n",
      "Name: label, dtype: int64\n"
     ]
    },
    {
     "data": {
      "text/plain": [
       "<AxesSubplot:xlabel='label', ylabel='count'>"
      ]
     },
     "execution_count": 252,
     "metadata": {},
     "output_type": "execute_result"
    },
    {
     "data": {
      "image/png": "[encoded data removed]",
      "text/plain": [
       "<Figure size 432x288 with 1 Axes>"
      ]
     },
     "metadata": {
      "needs_background": "light"
     },
     "output_type": "display_data"
    }
   ],
   "source": [
    "print(df_train[\"label\"].value_counts())\n",
    "sns.countplot(x='label',data=df_train)"
   ]
  },
  {
   "cell_type": "markdown",
   "metadata": {},
   "source": [
    "# PRE-PROCESSING"
   ]
  },
  {
   "cell_type": "markdown",
   "metadata": {},
   "source": [
    "### Working On Missing Data"
   ]
  },
  {
   "cell_type": "code",
   "execution_count": 253,
   "metadata": {},
   "outputs": [
    {
     "data": {
      "text/html": [
       "<div>\n",
       "<style scoped>\n",
       "    .dataframe tbody tr th:only-of-type {\n",
       "        vertical-align: middle;\n",
       "    }\n",
       "\n",
       "    .dataframe tbody tr th {\n",
       "        vertical-align: top;\n",
       "    }\n",
       "\n",
       "    .dataframe thead th {\n",
       "        text-align: right;\n",
       "    }\n",
       "</style>\n",
       "<table border=\"1\" class=\"dataframe\">\n",
       "  <thead>\n",
       "    <tr style=\"text-align: right;\">\n",
       "      <th></th>\n",
       "      <th>webpageDescription</th>\n",
       "      <th>alchemy_category</th>\n",
       "      <th>alchemy_category_score</th>\n",
       "      <th>avgLinkWordLength</th>\n",
       "      <th>AvglinkWithOneCommonWord</th>\n",
       "      <th>AvglinkWithTwoCommonWord</th>\n",
       "      <th>AvglinkWithThreeCommonWord</th>\n",
       "      <th>AvglinkWithFourCommonWord</th>\n",
       "      <th>redundancyMeasure</th>\n",
       "      <th>embedRatio</th>\n",
       "      <th>framebased</th>\n",
       "      <th>frameTagRatio</th>\n",
       "      <th>domainLink</th>\n",
       "      <th>tagRatio</th>\n",
       "      <th>imageTagRatio</th>\n",
       "      <th>isNews</th>\n",
       "      <th>lengthyDomain</th>\n",
       "      <th>hyperlinkToAllWordsRatio</th>\n",
       "      <th>isFrontPageNews</th>\n",
       "      <th>alphanumCharCount</th>\n",
       "      <th>linksCount</th>\n",
       "      <th>wordCount</th>\n",
       "      <th>parametrizedLinkRatio</th>\n",
       "      <th>spellingErrorsRatio</th>\n",
       "      <th>label</th>\n",
       "      <th>id</th>\n",
       "    </tr>\n",
       "  </thead>\n",
       "  <tbody>\n",
       "    <tr>\n",
       "      <th>0</th>\n",
       "      <td>{\"title\":\"Join Polyvore and follow the latest ...</td>\n",
       "      <td>NaN</td>\n",
       "      <td>2</td>\n",
       "      <td>1.916667</td>\n",
       "      <td>0.047619</td>\n",
       "      <td>0.007937</td>\n",
       "      <td>0.000000</td>\n",
       "      <td>0.000000</td>\n",
       "      <td>0.803797</td>\n",
       "      <td>0.0</td>\n",
       "      <td>0</td>\n",
       "      <td>0.027778</td>\n",
       "      <td>0</td>\n",
       "      <td>0.203161</td>\n",
       "      <td>3.120000</td>\n",
       "      <td>NaN</td>\n",
       "      <td>0</td>\n",
       "      <td>34</td>\n",
       "      <td>0</td>\n",
       "      <td>682</td>\n",
       "      <td>126</td>\n",
       "      <td>1</td>\n",
       "      <td>0.531746</td>\n",
       "      <td>0.142857</td>\n",
       "      <td>1.0</td>\n",
       "      <td>3711</td>\n",
       "    </tr>\n",
       "    <tr>\n",
       "      <th>1</th>\n",
       "      <td>{\"body\":\"Speed Air Man--David Belle david bell...</td>\n",
       "      <td>NaN</td>\n",
       "      <td>2</td>\n",
       "      <td>1.257576</td>\n",
       "      <td>0.141026</td>\n",
       "      <td>0.000000</td>\n",
       "      <td>0.000000</td>\n",
       "      <td>0.000000</td>\n",
       "      <td>1.142857</td>\n",
       "      <td>0.1</td>\n",
       "      <td>0</td>\n",
       "      <td>0.015086</td>\n",
       "      <td>0</td>\n",
       "      <td>0.168189</td>\n",
       "      <td>13.100000</td>\n",
       "      <td>NaN</td>\n",
       "      <td>0</td>\n",
       "      <td>12</td>\n",
       "      <td>0</td>\n",
       "      <td>3008</td>\n",
       "      <td>78</td>\n",
       "      <td>1</td>\n",
       "      <td>0.628205</td>\n",
       "      <td>0.000000</td>\n",
       "      <td>1.0</td>\n",
       "      <td>7222</td>\n",
       "    </tr>\n",
       "    <tr>\n",
       "      <th>2</th>\n",
       "      <td>{\"title\":\"Chicken Gruyere Recipe \",\"body\":\"Chi...</td>\n",
       "      <td>science_technology</td>\n",
       "      <td>0.386685</td>\n",
       "      <td>2.024000</td>\n",
       "      <td>0.630350</td>\n",
       "      <td>0.284047</td>\n",
       "      <td>0.233463</td>\n",
       "      <td>0.202335</td>\n",
       "      <td>0.443409</td>\n",
       "      <td>0.0</td>\n",
       "      <td>0</td>\n",
       "      <td>0.033935</td>\n",
       "      <td>0</td>\n",
       "      <td>0.192652</td>\n",
       "      <td>0.126582</td>\n",
       "      <td>1</td>\n",
       "      <td>1</td>\n",
       "      <td>17</td>\n",
       "      <td>0</td>\n",
       "      <td>11008</td>\n",
       "      <td>257</td>\n",
       "      <td>5</td>\n",
       "      <td>0.466926</td>\n",
       "      <td>0.062500</td>\n",
       "      <td>1.0</td>\n",
       "      <td>3964</td>\n",
       "    </tr>\n",
       "    <tr>\n",
       "      <th>3</th>\n",
       "      <td>{\"title\":\"Ikan Bilis With Tempeh Groundnuts \",...</td>\n",
       "      <td>recreation</td>\n",
       "      <td>0.475039</td>\n",
       "      <td>1.665254</td>\n",
       "      <td>0.419580</td>\n",
       "      <td>0.199301</td>\n",
       "      <td>0.097902</td>\n",
       "      <td>0.066434</td>\n",
       "      <td>0.472649</td>\n",
       "      <td>0.0</td>\n",
       "      <td>0</td>\n",
       "      <td>0.036530</td>\n",
       "      <td>0</td>\n",
       "      <td>0.198000</td>\n",
       "      <td>0.135593</td>\n",
       "      <td>1</td>\n",
       "      <td>1</td>\n",
       "      <td>28</td>\n",
       "      <td>0</td>\n",
       "      <td>4585</td>\n",
       "      <td>286</td>\n",
       "      <td>5</td>\n",
       "      <td>0.244755</td>\n",
       "      <td>0.085868</td>\n",
       "      <td>1.0</td>\n",
       "      <td>3697</td>\n",
       "    </tr>\n",
       "    <tr>\n",
       "      <th>4</th>\n",
       "      <td>{\"url\":\"recipes wuzzle org index php 72\",\"titl...</td>\n",
       "      <td>computer_internet</td>\n",
       "      <td>0.535009</td>\n",
       "      <td>0.181818</td>\n",
       "      <td>0.036364</td>\n",
       "      <td>0.000000</td>\n",
       "      <td>0.000000</td>\n",
       "      <td>0.000000</td>\n",
       "      <td>0.292614</td>\n",
       "      <td>0.0</td>\n",
       "      <td>0</td>\n",
       "      <td>0.015152</td>\n",
       "      <td>0</td>\n",
       "      <td>0.241564</td>\n",
       "      <td>0.054217</td>\n",
       "      <td>NaN</td>\n",
       "      <td>0</td>\n",
       "      <td>3</td>\n",
       "      <td>0</td>\n",
       "      <td>1745</td>\n",
       "      <td>55</td>\n",
       "      <td>1</td>\n",
       "      <td>0.072727</td>\n",
       "      <td>0.115044</td>\n",
       "      <td>1.0</td>\n",
       "      <td>4321</td>\n",
       "    </tr>\n",
       "  </tbody>\n",
       "</table>\n",
       "</div>"
      ],
      "text/plain": [
       "                                  webpageDescription    alchemy_category  \\\n",
       "0  {\"title\":\"Join Polyvore and follow the latest ...                 NaN   \n",
       "1  {\"body\":\"Speed Air Man--David Belle david bell...                 NaN   \n",
       "2  {\"title\":\"Chicken Gruyere Recipe \",\"body\":\"Chi...  science_technology   \n",
       "3  {\"title\":\"Ikan Bilis With Tempeh Groundnuts \",...          recreation   \n",
       "4  {\"url\":\"recipes wuzzle org index php 72\",\"titl...   computer_internet   \n",
       "\n",
       "  alchemy_category_score  avgLinkWordLength  AvglinkWithOneCommonWord  \\\n",
       "0                      2           1.916667                  0.047619   \n",
       "1                      2           1.257576                  0.141026   \n",
       "2               0.386685           2.024000                  0.630350   \n",
       "3               0.475039           1.665254                  0.419580   \n",
       "4               0.535009           0.181818                  0.036364   \n",
       "\n",
       "   AvglinkWithTwoCommonWord  AvglinkWithThreeCommonWord  \\\n",
       "0                  0.007937                    0.000000   \n",
       "1                  0.000000                    0.000000   \n",
       "2                  0.284047                    0.233463   \n",
       "3                  0.199301                    0.097902   \n",
       "4                  0.000000                    0.000000   \n",
       "\n",
       "   AvglinkWithFourCommonWord  redundancyMeasure  embedRatio  framebased  \\\n",
       "0                   0.000000           0.803797         0.0           0   \n",
       "1                   0.000000           1.142857         0.1           0   \n",
       "2                   0.202335           0.443409         0.0           0   \n",
       "3                   0.066434           0.472649         0.0           0   \n",
       "4                   0.000000           0.292614         0.0           0   \n",
       "\n",
       "   frameTagRatio  domainLink  tagRatio  imageTagRatio isNews  lengthyDomain  \\\n",
       "0       0.027778           0  0.203161       3.120000    NaN              0   \n",
       "1       0.015086           0  0.168189      13.100000    NaN              0   \n",
       "2       0.033935           0  0.192652       0.126582      1              1   \n",
       "3       0.036530           0  0.198000       0.135593      1              1   \n",
       "4       0.015152           0  0.241564       0.054217    NaN              0   \n",
       "\n",
       "   hyperlinkToAllWordsRatio isFrontPageNews  alphanumCharCount  linksCount  \\\n",
       "0                        34               0                682         126   \n",
       "1                        12               0               3008          78   \n",
       "2                        17               0              11008         257   \n",
       "3                        28               0               4585         286   \n",
       "4                         3               0               1745          55   \n",
       "\n",
       "   wordCount  parametrizedLinkRatio  spellingErrorsRatio  label    id  \n",
       "0          1               0.531746             0.142857    1.0  3711  \n",
       "1          1               0.628205             0.000000    1.0  7222  \n",
       "2          5               0.466926             0.062500    1.0  3964  \n",
       "3          5               0.244755             0.085868    1.0  3697  \n",
       "4          1               0.072727             0.115044    1.0  4321  "
      ]
     },
     "execution_count": 253,
     "metadata": {},
     "output_type": "execute_result"
    }
   ],
   "source": [
    "df['alchemy_category_score'] = df['alchemy_category_score'].replace('?','2')\n",
    "\n",
    "df = df.replace('?',np.NaN)\n",
    "df.head()"
   ]
  },
  {
   "cell_type": "code",
   "execution_count": 254,
   "metadata": {},
   "outputs": [],
   "source": [
    "def get_missing_data():\n",
    "    Missing_Data = df.isnull().sum().nlargest(5)\n",
    "    Missing_Data_precentage = ((df.isnull().sum()/df.isnull().count())*100).nlargest(5)\n",
    "    return pd.concat([Missing_Data, Missing_Data_precentage], axis=1, keys=['Missing_Data', 'Percentage'])"
   ]
  },
  {
   "cell_type": "code",
   "execution_count": 255,
   "metadata": {},
   "outputs": [],
   "source": [
    "def countplot_graph(plot, feature):\n",
    "    total = len(feature)\n",
    "    for p in plot.patches:\n",
    "        percentage = '{:.1f}%'.format(100 * p.get_height()/total)\n",
    "        x = p.get_x() + p.get_width() / 2 - 0.05\n",
    "        y = p.get_y() + p.get_height()\n",
    "        plot.annotate(percentage, (x, y), size = 12)\n",
    "    plt.show()"
   ]
  },
  {
   "cell_type": "code",
   "execution_count": 256,
   "metadata": {},
   "outputs": [
    {
     "data": {
      "text/html": [
       "<div>\n",
       "<style scoped>\n",
       "    .dataframe tbody tr th:only-of-type {\n",
       "        vertical-align: middle;\n",
       "    }\n",
       "\n",
       "    .dataframe tbody tr th {\n",
       "        vertical-align: top;\n",
       "    }\n",
       "\n",
       "    .dataframe thead th {\n",
       "        text-align: right;\n",
       "    }\n",
       "</style>\n",
       "<table border=\"1\" class=\"dataframe\">\n",
       "  <thead>\n",
       "    <tr style=\"text-align: right;\">\n",
       "      <th></th>\n",
       "      <th>Missing_Data</th>\n",
       "      <th>Percentage</th>\n",
       "    </tr>\n",
       "  </thead>\n",
       "  <tbody>\n",
       "    <tr>\n",
       "      <th>isNews</th>\n",
       "      <td>2843</td>\n",
       "      <td>38.444895</td>\n",
       "    </tr>\n",
       "    <tr>\n",
       "      <th>alchemy_category</th>\n",
       "      <td>2342</td>\n",
       "      <td>31.670047</td>\n",
       "    </tr>\n",
       "    <tr>\n",
       "      <th>label</th>\n",
       "      <td>1479</td>\n",
       "      <td>20.000000</td>\n",
       "    </tr>\n",
       "    <tr>\n",
       "      <th>isFrontPageNews</th>\n",
       "      <td>1248</td>\n",
       "      <td>16.876268</td>\n",
       "    </tr>\n",
       "    <tr>\n",
       "      <th>webpageDescription</th>\n",
       "      <td>0</td>\n",
       "      <td>0.000000</td>\n",
       "    </tr>\n",
       "  </tbody>\n",
       "</table>\n",
       "</div>"
      ],
      "text/plain": [
       "                    Missing_Data  Percentage\n",
       "isNews                      2843   38.444895\n",
       "alchemy_category            2342   31.670047\n",
       "label                       1479   20.000000\n",
       "isFrontPageNews             1248   16.876268\n",
       "webpageDescription             0    0.000000"
      ]
     },
     "execution_count": 256,
     "metadata": {},
     "output_type": "execute_result"
    }
   ],
   "source": [
    "get_missing_data()"
   ]
  },
  {
   "cell_type": "code",
   "execution_count": 257,
   "metadata": {},
   "outputs": [
    {
     "data": {
      "text/plain": [
       "array([nan, '1'], dtype=object)"
      ]
     },
     "execution_count": 257,
     "metadata": {},
     "output_type": "execute_result"
    }
   ],
   "source": [
    "df['isNews'].unique()"
   ]
  },
  {
   "cell_type": "code",
   "execution_count": 258,
   "metadata": {},
   "outputs": [],
   "source": [
    "df.drop(columns=['isNews'],inplace=True)"
   ]
  },
  {
   "cell_type": "code",
   "execution_count": 259,
   "metadata": {},
   "outputs": [
    {
     "data": {
      "text/plain": [
       "array(['0', nan, '1'], dtype=object)"
      ]
     },
     "execution_count": 259,
     "metadata": {},
     "output_type": "execute_result"
    }
   ],
   "source": [
    "df['isFrontPageNews'].unique()"
   ]
  },
  {
   "cell_type": "code",
   "execution_count": 260,
   "metadata": {},
   "outputs": [
    {
     "name": "stdout",
     "output_type": "stream",
     "text": [
      "0    5853\n",
      "1     294\n",
      "Name: isFrontPageNews, dtype: int64\n"
     ]
    },
    {
     "data": {
      "image/png": "[encoded data removed]",
      "text/plain": [
       "<Figure size 504x360 with 1 Axes>"
      ]
     },
     "metadata": {
      "needs_background": "light"
     },
     "output_type": "display_data"
    }
   ],
   "source": [
    "print(df['isFrontPageNews'].value_counts())\n",
    "plt.figure(figsize = (7,5))\n",
    "graph = sns.countplot(x='isFrontPageNews', data=df)\n",
    "countplot_graph(graph, df.isFrontPageNews)"
   ]
  },
  {
   "cell_type": "code",
   "execution_count": 261,
   "metadata": {},
   "outputs": [],
   "source": [
    "df['isFrontPageNews'] = df['isFrontPageNews'].fillna(0)\n",
    "df['isFrontPageNews'] = df['isFrontPageNews'].astype('float').astype('Int64')"
   ]
  },
  {
   "cell_type": "code",
   "execution_count": 262,
   "metadata": {},
   "outputs": [
    {
     "data": {
      "text/html": [
       "<div>\n",
       "<style scoped>\n",
       "    .dataframe tbody tr th:only-of-type {\n",
       "        vertical-align: middle;\n",
       "    }\n",
       "\n",
       "    .dataframe tbody tr th {\n",
       "        vertical-align: top;\n",
       "    }\n",
       "\n",
       "    .dataframe thead th {\n",
       "        text-align: right;\n",
       "    }\n",
       "</style>\n",
       "<table border=\"1\" class=\"dataframe\">\n",
       "  <thead>\n",
       "    <tr style=\"text-align: right;\">\n",
       "      <th></th>\n",
       "      <th>Missing_Data</th>\n",
       "      <th>Percentage</th>\n",
       "    </tr>\n",
       "  </thead>\n",
       "  <tbody>\n",
       "    <tr>\n",
       "      <th>alchemy_category</th>\n",
       "      <td>2342</td>\n",
       "      <td>31.670047</td>\n",
       "    </tr>\n",
       "    <tr>\n",
       "      <th>label</th>\n",
       "      <td>1479</td>\n",
       "      <td>20.000000</td>\n",
       "    </tr>\n",
       "    <tr>\n",
       "      <th>webpageDescription</th>\n",
       "      <td>0</td>\n",
       "      <td>0.000000</td>\n",
       "    </tr>\n",
       "    <tr>\n",
       "      <th>alchemy_category_score</th>\n",
       "      <td>0</td>\n",
       "      <td>0.000000</td>\n",
       "    </tr>\n",
       "    <tr>\n",
       "      <th>avgLinkWordLength</th>\n",
       "      <td>0</td>\n",
       "      <td>0.000000</td>\n",
       "    </tr>\n",
       "  </tbody>\n",
       "</table>\n",
       "</div>"
      ],
      "text/plain": [
       "                        Missing_Data  Percentage\n",
       "alchemy_category                2342   31.670047\n",
       "label                           1479   20.000000\n",
       "webpageDescription                 0    0.000000\n",
       "alchemy_category_score             0    0.000000\n",
       "avgLinkWordLength                  0    0.000000"
      ]
     },
     "execution_count": 262,
     "metadata": {},
     "output_type": "execute_result"
    }
   ],
   "source": [
    "get_missing_data()"
   ]
  },
  {
   "cell_type": "code",
   "execution_count": 263,
   "metadata": {},
   "outputs": [
    {
     "data": {
      "text/plain": [
       "array(['2', '0.386685', '0.475039', ..., '0.681418', '0.943693',\n",
       "       '0.715035'], dtype=object)"
      ]
     },
     "execution_count": 263,
     "metadata": {},
     "output_type": "execute_result"
    }
   ],
   "source": [
    "df['alchemy_category_score'].unique()"
   ]
  },
  {
   "cell_type": "code",
   "execution_count": 264,
   "metadata": {},
   "outputs": [
    {
     "data": {
      "text/plain": [
       "array([     nan, 0.386685, 0.475039, ..., 0.681418, 0.943693, 0.715035])"
      ]
     },
     "execution_count": 264,
     "metadata": {},
     "output_type": "execute_result"
    }
   ],
   "source": [
    "df['alchemy_category_score'] = df.alchemy_category_score.astype(float)\n",
    "df['alchemy_category_score'] = df['alchemy_category_score'].replace(2,np.NaN)\n",
    "df['alchemy_category_score'].unique()"
   ]
  },
  {
   "cell_type": "code",
   "execution_count": 265,
   "metadata": {},
   "outputs": [
    {
     "data": {
      "text/html": [
       "<div>\n",
       "<style scoped>\n",
       "    .dataframe tbody tr th:only-of-type {\n",
       "        vertical-align: middle;\n",
       "    }\n",
       "\n",
       "    .dataframe tbody tr th {\n",
       "        vertical-align: top;\n",
       "    }\n",
       "\n",
       "    .dataframe thead th {\n",
       "        text-align: right;\n",
       "    }\n",
       "</style>\n",
       "<table border=\"1\" class=\"dataframe\">\n",
       "  <thead>\n",
       "    <tr style=\"text-align: right;\">\n",
       "      <th></th>\n",
       "      <th>Missing_Data</th>\n",
       "      <th>Percentage</th>\n",
       "    </tr>\n",
       "  </thead>\n",
       "  <tbody>\n",
       "    <tr>\n",
       "      <th>alchemy_category</th>\n",
       "      <td>2342</td>\n",
       "      <td>31.670047</td>\n",
       "    </tr>\n",
       "    <tr>\n",
       "      <th>alchemy_category_score</th>\n",
       "      <td>2342</td>\n",
       "      <td>31.670047</td>\n",
       "    </tr>\n",
       "    <tr>\n",
       "      <th>label</th>\n",
       "      <td>1479</td>\n",
       "      <td>20.000000</td>\n",
       "    </tr>\n",
       "    <tr>\n",
       "      <th>webpageDescription</th>\n",
       "      <td>0</td>\n",
       "      <td>0.000000</td>\n",
       "    </tr>\n",
       "    <tr>\n",
       "      <th>avgLinkWordLength</th>\n",
       "      <td>0</td>\n",
       "      <td>0.000000</td>\n",
       "    </tr>\n",
       "  </tbody>\n",
       "</table>\n",
       "</div>"
      ],
      "text/plain": [
       "                        Missing_Data  Percentage\n",
       "alchemy_category                2342   31.670047\n",
       "alchemy_category_score          2342   31.670047\n",
       "label                           1479   20.000000\n",
       "webpageDescription                 0    0.000000\n",
       "avgLinkWordLength                  0    0.000000"
      ]
     },
     "execution_count": 265,
     "metadata": {},
     "output_type": "execute_result"
    }
   ],
   "source": [
    "get_missing_data()"
   ]
  },
  {
   "cell_type": "code",
   "execution_count": 266,
   "metadata": {},
   "outputs": [
    {
     "data": {
      "text/html": [
       "<div>\n",
       "<style scoped>\n",
       "    .dataframe tbody tr th:only-of-type {\n",
       "        vertical-align: middle;\n",
       "    }\n",
       "\n",
       "    .dataframe tbody tr th {\n",
       "        vertical-align: top;\n",
       "    }\n",
       "\n",
       "    .dataframe thead th {\n",
       "        text-align: right;\n",
       "    }\n",
       "</style>\n",
       "<table border=\"1\" class=\"dataframe\">\n",
       "  <thead>\n",
       "    <tr style=\"text-align: right;\">\n",
       "      <th></th>\n",
       "      <th>alchemy_category_score</th>\n",
       "    </tr>\n",
       "  </thead>\n",
       "  <tbody>\n",
       "    <tr>\n",
       "      <th>count</th>\n",
       "      <td>5053.000000</td>\n",
       "    </tr>\n",
       "    <tr>\n",
       "      <th>mean</th>\n",
       "      <td>0.603334</td>\n",
       "    </tr>\n",
       "    <tr>\n",
       "      <th>std</th>\n",
       "      <td>0.212864</td>\n",
       "    </tr>\n",
       "    <tr>\n",
       "      <th>min</th>\n",
       "      <td>0.070833</td>\n",
       "    </tr>\n",
       "    <tr>\n",
       "      <th>25%</th>\n",
       "      <td>0.452424</td>\n",
       "    </tr>\n",
       "    <tr>\n",
       "      <th>50%</th>\n",
       "      <td>0.625616</td>\n",
       "    </tr>\n",
       "    <tr>\n",
       "      <th>75%</th>\n",
       "      <td>0.780851</td>\n",
       "    </tr>\n",
       "    <tr>\n",
       "      <th>max</th>\n",
       "      <td>0.999426</td>\n",
       "    </tr>\n",
       "  </tbody>\n",
       "</table>\n",
       "</div>"
      ],
      "text/plain": [
       "       alchemy_category_score\n",
       "count             5053.000000\n",
       "mean                 0.603334\n",
       "std                  0.212864\n",
       "min                  0.070833\n",
       "25%                  0.452424\n",
       "50%                  0.625616\n",
       "75%                  0.780851\n",
       "max                  0.999426"
      ]
     },
     "execution_count": 266,
     "metadata": {},
     "output_type": "execute_result"
    }
   ],
   "source": [
    "column_name = ['alchemy_category_score']\n",
    "df[column_name].describe()"
   ]
  },
  {
   "cell_type": "code",
   "execution_count": 267,
   "metadata": {},
   "outputs": [
    {
     "data": {
      "text/html": [
       "<div>\n",
       "<style scoped>\n",
       "    .dataframe tbody tr th:only-of-type {\n",
       "        vertical-align: middle;\n",
       "    }\n",
       "\n",
       "    .dataframe tbody tr th {\n",
       "        vertical-align: top;\n",
       "    }\n",
       "\n",
       "    .dataframe thead th {\n",
       "        text-align: right;\n",
       "    }\n",
       "</style>\n",
       "<table border=\"1\" class=\"dataframe\">\n",
       "  <thead>\n",
       "    <tr style=\"text-align: right;\">\n",
       "      <th></th>\n",
       "      <th>Missing_Data</th>\n",
       "      <th>Percentage</th>\n",
       "    </tr>\n",
       "  </thead>\n",
       "  <tbody>\n",
       "    <tr>\n",
       "      <th>alchemy_category</th>\n",
       "      <td>2342</td>\n",
       "      <td>31.670047</td>\n",
       "    </tr>\n",
       "    <tr>\n",
       "      <th>label</th>\n",
       "      <td>1479</td>\n",
       "      <td>20.000000</td>\n",
       "    </tr>\n",
       "    <tr>\n",
       "      <th>webpageDescription</th>\n",
       "      <td>0</td>\n",
       "      <td>0.000000</td>\n",
       "    </tr>\n",
       "    <tr>\n",
       "      <th>alchemy_category_score</th>\n",
       "      <td>0</td>\n",
       "      <td>0.000000</td>\n",
       "    </tr>\n",
       "    <tr>\n",
       "      <th>avgLinkWordLength</th>\n",
       "      <td>0</td>\n",
       "      <td>0.000000</td>\n",
       "    </tr>\n",
       "  </tbody>\n",
       "</table>\n",
       "</div>"
      ],
      "text/plain": [
       "                        Missing_Data  Percentage\n",
       "alchemy_category                2342   31.670047\n",
       "label                           1479   20.000000\n",
       "webpageDescription                 0    0.000000\n",
       "alchemy_category_score             0    0.000000\n",
       "avgLinkWordLength                  0    0.000000"
      ]
     },
     "execution_count": 267,
     "metadata": {},
     "output_type": "execute_result"
    }
   ],
   "source": [
    "df[\"alchemy_category_score\"].fillna(df[\"alchemy_category_score\"].median(), inplace=True)\n",
    "get_missing_data()"
   ]
  },
  {
   "cell_type": "code",
   "execution_count": 268,
   "metadata": {},
   "outputs": [
    {
     "data": {
      "text/plain": [
       "recreation            1229\n",
       "arts_entertainment     941\n",
       "business               880\n",
       "health                 506\n",
       "sports                 380\n",
       "culture_politics       343\n",
       "computer_internet      296\n",
       "science_technology     289\n",
       "gaming                  76\n",
       "religion                72\n",
       "law_crime               31\n",
       "unknown                  6\n",
       "weather                  4\n",
       "Name: alchemy_category, dtype: int64"
      ]
     },
     "execution_count": 268,
     "metadata": {},
     "output_type": "execute_result"
    }
   ],
   "source": [
    "df['alchemy_category'].value_counts()"
   ]
  },
  {
   "cell_type": "code",
   "execution_count": 269,
   "metadata": {},
   "outputs": [
    {
     "data": {
      "text/plain": [
       "unknown               2348\n",
       "recreation            1229\n",
       "arts_entertainment     941\n",
       "business               880\n",
       "health                 506\n",
       "sports                 380\n",
       "culture_politics       343\n",
       "computer_internet      296\n",
       "science_technology     289\n",
       "gaming                  76\n",
       "religion                72\n",
       "law_crime               31\n",
       "weather                  4\n",
       "Name: alchemy_category, dtype: int64"
      ]
     },
     "execution_count": 269,
     "metadata": {},
     "output_type": "execute_result"
    }
   ],
   "source": [
    "df['alchemy_category'] = df['alchemy_category'].replace(np.NaN,'unknown')\n",
    "df['alchemy_category'].value_counts()"
   ]
  },
  {
   "cell_type": "code",
   "execution_count": 270,
   "metadata": {},
   "outputs": [
    {
     "data": {
      "text/html": [
       "<div>\n",
       "<style scoped>\n",
       "    .dataframe tbody tr th:only-of-type {\n",
       "        vertical-align: middle;\n",
       "    }\n",
       "\n",
       "    .dataframe tbody tr th {\n",
       "        vertical-align: top;\n",
       "    }\n",
       "\n",
       "    .dataframe thead th {\n",
       "        text-align: right;\n",
       "    }\n",
       "</style>\n",
       "<table border=\"1\" class=\"dataframe\">\n",
       "  <thead>\n",
       "    <tr style=\"text-align: right;\">\n",
       "      <th></th>\n",
       "      <th>Missing_Data</th>\n",
       "      <th>Percentage</th>\n",
       "    </tr>\n",
       "  </thead>\n",
       "  <tbody>\n",
       "    <tr>\n",
       "      <th>label</th>\n",
       "      <td>1479</td>\n",
       "      <td>20.0</td>\n",
       "    </tr>\n",
       "    <tr>\n",
       "      <th>webpageDescription</th>\n",
       "      <td>0</td>\n",
       "      <td>0.0</td>\n",
       "    </tr>\n",
       "    <tr>\n",
       "      <th>alchemy_category</th>\n",
       "      <td>0</td>\n",
       "      <td>0.0</td>\n",
       "    </tr>\n",
       "    <tr>\n",
       "      <th>alchemy_category_score</th>\n",
       "      <td>0</td>\n",
       "      <td>0.0</td>\n",
       "    </tr>\n",
       "    <tr>\n",
       "      <th>avgLinkWordLength</th>\n",
       "      <td>0</td>\n",
       "      <td>0.0</td>\n",
       "    </tr>\n",
       "  </tbody>\n",
       "</table>\n",
       "</div>"
      ],
      "text/plain": [
       "                        Missing_Data  Percentage\n",
       "label                           1479        20.0\n",
       "webpageDescription                 0         0.0\n",
       "alchemy_category                   0         0.0\n",
       "alchemy_category_score             0         0.0\n",
       "avgLinkWordLength                  0         0.0"
      ]
     },
     "execution_count": 270,
     "metadata": {},
     "output_type": "execute_result"
    }
   ],
   "source": [
    "get_missing_data()"
   ]
  },
  {
   "cell_type": "markdown",
   "metadata": {},
   "source": [
    "### Label Encoding"
   ]
  },
  {
   "cell_type": "code",
   "execution_count": 271,
   "metadata": {},
   "outputs": [],
   "source": [
    "# column_for_one_hot = [\"alchemy_category\"]\n",
    "# df = pd.get_dummies(df, columns=column_for_one_hot)\n",
    "# df.head()"
   ]
  },
  {
   "cell_type": "code",
   "execution_count": 272,
   "metadata": {},
   "outputs": [
    {
     "data": {
      "text/html": [
       "<div>\n",
       "<style scoped>\n",
       "    .dataframe tbody tr th:only-of-type {\n",
       "        vertical-align: middle;\n",
       "    }\n",
       "\n",
       "    .dataframe tbody tr th {\n",
       "        vertical-align: top;\n",
       "    }\n",
       "\n",
       "    .dataframe thead th {\n",
       "        text-align: right;\n",
       "    }\n",
       "</style>\n",
       "<table border=\"1\" class=\"dataframe\">\n",
       "  <thead>\n",
       "    <tr style=\"text-align: right;\">\n",
       "      <th></th>\n",
       "      <th>webpageDescription</th>\n",
       "      <th>alchemy_category</th>\n",
       "      <th>alchemy_category_score</th>\n",
       "      <th>avgLinkWordLength</th>\n",
       "      <th>AvglinkWithOneCommonWord</th>\n",
       "      <th>AvglinkWithTwoCommonWord</th>\n",
       "      <th>AvglinkWithThreeCommonWord</th>\n",
       "      <th>AvglinkWithFourCommonWord</th>\n",
       "      <th>redundancyMeasure</th>\n",
       "      <th>embedRatio</th>\n",
       "      <th>framebased</th>\n",
       "      <th>frameTagRatio</th>\n",
       "      <th>domainLink</th>\n",
       "      <th>tagRatio</th>\n",
       "      <th>imageTagRatio</th>\n",
       "      <th>lengthyDomain</th>\n",
       "      <th>hyperlinkToAllWordsRatio</th>\n",
       "      <th>isFrontPageNews</th>\n",
       "      <th>alphanumCharCount</th>\n",
       "      <th>linksCount</th>\n",
       "      <th>wordCount</th>\n",
       "      <th>parametrizedLinkRatio</th>\n",
       "      <th>spellingErrorsRatio</th>\n",
       "      <th>label</th>\n",
       "      <th>id</th>\n",
       "    </tr>\n",
       "  </thead>\n",
       "  <tbody>\n",
       "    <tr>\n",
       "      <th>0</th>\n",
       "      <td>{\"title\":\"Join Polyvore and follow the latest ...</td>\n",
       "      <td>11</td>\n",
       "      <td>0.625616</td>\n",
       "      <td>1.916667</td>\n",
       "      <td>0.047619</td>\n",
       "      <td>0.007937</td>\n",
       "      <td>0.000000</td>\n",
       "      <td>0.000000</td>\n",
       "      <td>0.803797</td>\n",
       "      <td>0.0</td>\n",
       "      <td>0</td>\n",
       "      <td>0.027778</td>\n",
       "      <td>0</td>\n",
       "      <td>0.203161</td>\n",
       "      <td>3.120000</td>\n",
       "      <td>0</td>\n",
       "      <td>34</td>\n",
       "      <td>0</td>\n",
       "      <td>682</td>\n",
       "      <td>126</td>\n",
       "      <td>1</td>\n",
       "      <td>0.531746</td>\n",
       "      <td>0.142857</td>\n",
       "      <td>1.0</td>\n",
       "      <td>3711</td>\n",
       "    </tr>\n",
       "    <tr>\n",
       "      <th>1</th>\n",
       "      <td>{\"body\":\"Speed Air Man--David Belle david bell...</td>\n",
       "      <td>11</td>\n",
       "      <td>0.625616</td>\n",
       "      <td>1.257576</td>\n",
       "      <td>0.141026</td>\n",
       "      <td>0.000000</td>\n",
       "      <td>0.000000</td>\n",
       "      <td>0.000000</td>\n",
       "      <td>1.142857</td>\n",
       "      <td>0.1</td>\n",
       "      <td>0</td>\n",
       "      <td>0.015086</td>\n",
       "      <td>0</td>\n",
       "      <td>0.168189</td>\n",
       "      <td>13.100000</td>\n",
       "      <td>0</td>\n",
       "      <td>12</td>\n",
       "      <td>0</td>\n",
       "      <td>3008</td>\n",
       "      <td>78</td>\n",
       "      <td>1</td>\n",
       "      <td>0.628205</td>\n",
       "      <td>0.000000</td>\n",
       "      <td>1.0</td>\n",
       "      <td>7222</td>\n",
       "    </tr>\n",
       "    <tr>\n",
       "      <th>2</th>\n",
       "      <td>{\"title\":\"Chicken Gruyere Recipe \",\"body\":\"Chi...</td>\n",
       "      <td>9</td>\n",
       "      <td>0.386685</td>\n",
       "      <td>2.024000</td>\n",
       "      <td>0.630350</td>\n",
       "      <td>0.284047</td>\n",
       "      <td>0.233463</td>\n",
       "      <td>0.202335</td>\n",
       "      <td>0.443409</td>\n",
       "      <td>0.0</td>\n",
       "      <td>0</td>\n",
       "      <td>0.033935</td>\n",
       "      <td>0</td>\n",
       "      <td>0.192652</td>\n",
       "      <td>0.126582</td>\n",
       "      <td>1</td>\n",
       "      <td>17</td>\n",
       "      <td>0</td>\n",
       "      <td>11008</td>\n",
       "      <td>257</td>\n",
       "      <td>5</td>\n",
       "      <td>0.466926</td>\n",
       "      <td>0.062500</td>\n",
       "      <td>1.0</td>\n",
       "      <td>3964</td>\n",
       "    </tr>\n",
       "    <tr>\n",
       "      <th>3</th>\n",
       "      <td>{\"title\":\"Ikan Bilis With Tempeh Groundnuts \",...</td>\n",
       "      <td>7</td>\n",
       "      <td>0.475039</td>\n",
       "      <td>1.665254</td>\n",
       "      <td>0.419580</td>\n",
       "      <td>0.199301</td>\n",
       "      <td>0.097902</td>\n",
       "      <td>0.066434</td>\n",
       "      <td>0.472649</td>\n",
       "      <td>0.0</td>\n",
       "      <td>0</td>\n",
       "      <td>0.036530</td>\n",
       "      <td>0</td>\n",
       "      <td>0.198000</td>\n",
       "      <td>0.135593</td>\n",
       "      <td>1</td>\n",
       "      <td>28</td>\n",
       "      <td>0</td>\n",
       "      <td>4585</td>\n",
       "      <td>286</td>\n",
       "      <td>5</td>\n",
       "      <td>0.244755</td>\n",
       "      <td>0.085868</td>\n",
       "      <td>1.0</td>\n",
       "      <td>3697</td>\n",
       "    </tr>\n",
       "    <tr>\n",
       "      <th>4</th>\n",
       "      <td>{\"url\":\"recipes wuzzle org index php 72\",\"titl...</td>\n",
       "      <td>2</td>\n",
       "      <td>0.535009</td>\n",
       "      <td>0.181818</td>\n",
       "      <td>0.036364</td>\n",
       "      <td>0.000000</td>\n",
       "      <td>0.000000</td>\n",
       "      <td>0.000000</td>\n",
       "      <td>0.292614</td>\n",
       "      <td>0.0</td>\n",
       "      <td>0</td>\n",
       "      <td>0.015152</td>\n",
       "      <td>0</td>\n",
       "      <td>0.241564</td>\n",
       "      <td>0.054217</td>\n",
       "      <td>0</td>\n",
       "      <td>3</td>\n",
       "      <td>0</td>\n",
       "      <td>1745</td>\n",
       "      <td>55</td>\n",
       "      <td>1</td>\n",
       "      <td>0.072727</td>\n",
       "      <td>0.115044</td>\n",
       "      <td>1.0</td>\n",
       "      <td>4321</td>\n",
       "    </tr>\n",
       "  </tbody>\n",
       "</table>\n",
       "</div>"
      ],
      "text/plain": [
       "                                  webpageDescription  alchemy_category  \\\n",
       "0  {\"title\":\"Join Polyvore and follow the latest ...                11   \n",
       "1  {\"body\":\"Speed Air Man--David Belle david bell...                11   \n",
       "2  {\"title\":\"Chicken Gruyere Recipe \",\"body\":\"Chi...                 9   \n",
       "3  {\"title\":\"Ikan Bilis With Tempeh Groundnuts \",...                 7   \n",
       "4  {\"url\":\"recipes wuzzle org index php 72\",\"titl...                 2   \n",
       "\n",
       "   alchemy_category_score  avgLinkWordLength  AvglinkWithOneCommonWord  \\\n",
       "0                0.625616           1.916667                  0.047619   \n",
       "1                0.625616           1.257576                  0.141026   \n",
       "2                0.386685           2.024000                  0.630350   \n",
       "3                0.475039           1.665254                  0.419580   \n",
       "4                0.535009           0.181818                  0.036364   \n",
       "\n",
       "   AvglinkWithTwoCommonWord  AvglinkWithThreeCommonWord  \\\n",
       "0                  0.007937                    0.000000   \n",
       "1                  0.000000                    0.000000   \n",
       "2                  0.284047                    0.233463   \n",
       "3                  0.199301                    0.097902   \n",
       "4                  0.000000                    0.000000   \n",
       "\n",
       "   AvglinkWithFourCommonWord  redundancyMeasure  embedRatio  framebased  \\\n",
       "0                   0.000000           0.803797         0.0           0   \n",
       "1                   0.000000           1.142857         0.1           0   \n",
       "2                   0.202335           0.443409         0.0           0   \n",
       "3                   0.066434           0.472649         0.0           0   \n",
       "4                   0.000000           0.292614         0.0           0   \n",
       "\n",
       "   frameTagRatio  domainLink  tagRatio  imageTagRatio  lengthyDomain  \\\n",
       "0       0.027778           0  0.203161       3.120000              0   \n",
       "1       0.015086           0  0.168189      13.100000              0   \n",
       "2       0.033935           0  0.192652       0.126582              1   \n",
       "3       0.036530           0  0.198000       0.135593              1   \n",
       "4       0.015152           0  0.241564       0.054217              0   \n",
       "\n",
       "   hyperlinkToAllWordsRatio  isFrontPageNews  alphanumCharCount  linksCount  \\\n",
       "0                        34                0                682         126   \n",
       "1                        12                0               3008          78   \n",
       "2                        17                0              11008         257   \n",
       "3                        28                0               4585         286   \n",
       "4                         3                0               1745          55   \n",
       "\n",
       "   wordCount  parametrizedLinkRatio  spellingErrorsRatio  label    id  \n",
       "0          1               0.531746             0.142857    1.0  3711  \n",
       "1          1               0.628205             0.000000    1.0  7222  \n",
       "2          5               0.466926             0.062500    1.0  3964  \n",
       "3          5               0.244755             0.085868    1.0  3697  \n",
       "4          1               0.072727             0.115044    1.0  4321  "
      ]
     },
     "execution_count": 272,
     "metadata": {},
     "output_type": "execute_result"
    }
   ],
   "source": [
    "df['alchemy_category'] = LabelEncoder().fit_transform(df['alchemy_category'])\n",
    "df.head()"
   ]
  },
  {
   "cell_type": "markdown",
   "metadata": {},
   "source": [
    "### DATA"
   ]
  },
  {
   "cell_type": "code",
   "execution_count": 273,
   "metadata": {},
   "outputs": [
    {
     "name": "stdout",
     "output_type": "stream",
     "text": [
      "0    7395\n",
      "Name: framebased, dtype: int64\n"
     ]
    }
   ],
   "source": [
    "print(df[\"framebased\"].value_counts())\n",
    "df.drop(columns=['framebased'],inplace=True)"
   ]
  },
  {
   "cell_type": "code",
   "execution_count": 274,
   "metadata": {},
   "outputs": [
    {
     "data": {
      "text/html": [
       "<div>\n",
       "<style scoped>\n",
       "    .dataframe tbody tr th:only-of-type {\n",
       "        vertical-align: middle;\n",
       "    }\n",
       "\n",
       "    .dataframe tbody tr th {\n",
       "        vertical-align: top;\n",
       "    }\n",
       "\n",
       "    .dataframe thead th {\n",
       "        text-align: right;\n",
       "    }\n",
       "</style>\n",
       "<table border=\"1\" class=\"dataframe\">\n",
       "  <thead>\n",
       "    <tr style=\"text-align: right;\">\n",
       "      <th></th>\n",
       "      <th>webpageDescription</th>\n",
       "      <th>alchemy_category</th>\n",
       "      <th>alchemy_category_score</th>\n",
       "      <th>avgLinkWordLength</th>\n",
       "      <th>AvglinkWithOneCommonWord</th>\n",
       "      <th>AvglinkWithTwoCommonWord</th>\n",
       "      <th>AvglinkWithThreeCommonWord</th>\n",
       "      <th>AvglinkWithFourCommonWord</th>\n",
       "      <th>redundancyMeasure</th>\n",
       "      <th>embedRatio</th>\n",
       "      <th>frameTagRatio</th>\n",
       "      <th>domainLink</th>\n",
       "      <th>tagRatio</th>\n",
       "      <th>imageTagRatio</th>\n",
       "      <th>lengthyDomain</th>\n",
       "      <th>hyperlinkToAllWordsRatio</th>\n",
       "      <th>isFrontPageNews</th>\n",
       "      <th>alphanumCharCount</th>\n",
       "      <th>linksCount</th>\n",
       "      <th>wordCount</th>\n",
       "      <th>parametrizedLinkRatio</th>\n",
       "      <th>spellingErrorsRatio</th>\n",
       "      <th>label</th>\n",
       "      <th>id</th>\n",
       "    </tr>\n",
       "  </thead>\n",
       "  <tbody>\n",
       "    <tr>\n",
       "      <th>0</th>\n",
       "      <td>{\"title\":\"Join Polyvore and follow the latest ...</td>\n",
       "      <td>11</td>\n",
       "      <td>0.625616</td>\n",
       "      <td>1.916667</td>\n",
       "      <td>0.047619</td>\n",
       "      <td>0.007937</td>\n",
       "      <td>0.000000</td>\n",
       "      <td>0.000000</td>\n",
       "      <td>0.803797</td>\n",
       "      <td>0.0</td>\n",
       "      <td>0.027778</td>\n",
       "      <td>0</td>\n",
       "      <td>0.203161</td>\n",
       "      <td>3.120000</td>\n",
       "      <td>0</td>\n",
       "      <td>34</td>\n",
       "      <td>0</td>\n",
       "      <td>682</td>\n",
       "      <td>126</td>\n",
       "      <td>1</td>\n",
       "      <td>0.531746</td>\n",
       "      <td>0.142857</td>\n",
       "      <td>1.0</td>\n",
       "      <td>3711</td>\n",
       "    </tr>\n",
       "    <tr>\n",
       "      <th>1</th>\n",
       "      <td>{\"body\":\"Speed Air Man--David Belle david bell...</td>\n",
       "      <td>11</td>\n",
       "      <td>0.625616</td>\n",
       "      <td>1.257576</td>\n",
       "      <td>0.141026</td>\n",
       "      <td>0.000000</td>\n",
       "      <td>0.000000</td>\n",
       "      <td>0.000000</td>\n",
       "      <td>1.142857</td>\n",
       "      <td>0.1</td>\n",
       "      <td>0.015086</td>\n",
       "      <td>0</td>\n",
       "      <td>0.168189</td>\n",
       "      <td>13.100000</td>\n",
       "      <td>0</td>\n",
       "      <td>12</td>\n",
       "      <td>0</td>\n",
       "      <td>3008</td>\n",
       "      <td>78</td>\n",
       "      <td>1</td>\n",
       "      <td>0.628205</td>\n",
       "      <td>0.000000</td>\n",
       "      <td>1.0</td>\n",
       "      <td>7222</td>\n",
       "    </tr>\n",
       "    <tr>\n",
       "      <th>2</th>\n",
       "      <td>{\"title\":\"Chicken Gruyere Recipe \",\"body\":\"Chi...</td>\n",
       "      <td>9</td>\n",
       "      <td>0.386685</td>\n",
       "      <td>2.024000</td>\n",
       "      <td>0.630350</td>\n",
       "      <td>0.284047</td>\n",
       "      <td>0.233463</td>\n",
       "      <td>0.202335</td>\n",
       "      <td>0.443409</td>\n",
       "      <td>0.0</td>\n",
       "      <td>0.033935</td>\n",
       "      <td>0</td>\n",
       "      <td>0.192652</td>\n",
       "      <td>0.126582</td>\n",
       "      <td>1</td>\n",
       "      <td>17</td>\n",
       "      <td>0</td>\n",
       "      <td>11008</td>\n",
       "      <td>257</td>\n",
       "      <td>5</td>\n",
       "      <td>0.466926</td>\n",
       "      <td>0.062500</td>\n",
       "      <td>1.0</td>\n",
       "      <td>3964</td>\n",
       "    </tr>\n",
       "    <tr>\n",
       "      <th>3</th>\n",
       "      <td>{\"title\":\"Ikan Bilis With Tempeh Groundnuts \",...</td>\n",
       "      <td>7</td>\n",
       "      <td>0.475039</td>\n",
       "      <td>1.665254</td>\n",
       "      <td>0.419580</td>\n",
       "      <td>0.199301</td>\n",
       "      <td>0.097902</td>\n",
       "      <td>0.066434</td>\n",
       "      <td>0.472649</td>\n",
       "      <td>0.0</td>\n",
       "      <td>0.036530</td>\n",
       "      <td>0</td>\n",
       "      <td>0.198000</td>\n",
       "      <td>0.135593</td>\n",
       "      <td>1</td>\n",
       "      <td>28</td>\n",
       "      <td>0</td>\n",
       "      <td>4585</td>\n",
       "      <td>286</td>\n",
       "      <td>5</td>\n",
       "      <td>0.244755</td>\n",
       "      <td>0.085868</td>\n",
       "      <td>1.0</td>\n",
       "      <td>3697</td>\n",
       "    </tr>\n",
       "    <tr>\n",
       "      <th>4</th>\n",
       "      <td>{\"url\":\"recipes wuzzle org index php 72\",\"titl...</td>\n",
       "      <td>2</td>\n",
       "      <td>0.535009</td>\n",
       "      <td>0.181818</td>\n",
       "      <td>0.036364</td>\n",
       "      <td>0.000000</td>\n",
       "      <td>0.000000</td>\n",
       "      <td>0.000000</td>\n",
       "      <td>0.292614</td>\n",
       "      <td>0.0</td>\n",
       "      <td>0.015152</td>\n",
       "      <td>0</td>\n",
       "      <td>0.241564</td>\n",
       "      <td>0.054217</td>\n",
       "      <td>0</td>\n",
       "      <td>3</td>\n",
       "      <td>0</td>\n",
       "      <td>1745</td>\n",
       "      <td>55</td>\n",
       "      <td>1</td>\n",
       "      <td>0.072727</td>\n",
       "      <td>0.115044</td>\n",
       "      <td>1.0</td>\n",
       "      <td>4321</td>\n",
       "    </tr>\n",
       "  </tbody>\n",
       "</table>\n",
       "</div>"
      ],
      "text/plain": [
       "                                  webpageDescription  alchemy_category  \\\n",
       "0  {\"title\":\"Join Polyvore and follow the latest ...                11   \n",
       "1  {\"body\":\"Speed Air Man--David Belle david bell...                11   \n",
       "2  {\"title\":\"Chicken Gruyere Recipe \",\"body\":\"Chi...                 9   \n",
       "3  {\"title\":\"Ikan Bilis With Tempeh Groundnuts \",...                 7   \n",
       "4  {\"url\":\"recipes wuzzle org index php 72\",\"titl...                 2   \n",
       "\n",
       "   alchemy_category_score  avgLinkWordLength  AvglinkWithOneCommonWord  \\\n",
       "0                0.625616           1.916667                  0.047619   \n",
       "1                0.625616           1.257576                  0.141026   \n",
       "2                0.386685           2.024000                  0.630350   \n",
       "3                0.475039           1.665254                  0.419580   \n",
       "4                0.535009           0.181818                  0.036364   \n",
       "\n",
       "   AvglinkWithTwoCommonWord  AvglinkWithThreeCommonWord  \\\n",
       "0                  0.007937                    0.000000   \n",
       "1                  0.000000                    0.000000   \n",
       "2                  0.284047                    0.233463   \n",
       "3                  0.199301                    0.097902   \n",
       "4                  0.000000                    0.000000   \n",
       "\n",
       "   AvglinkWithFourCommonWord  redundancyMeasure  embedRatio  frameTagRatio  \\\n",
       "0                   0.000000           0.803797         0.0       0.027778   \n",
       "1                   0.000000           1.142857         0.1       0.015086   \n",
       "2                   0.202335           0.443409         0.0       0.033935   \n",
       "3                   0.066434           0.472649         0.0       0.036530   \n",
       "4                   0.000000           0.292614         0.0       0.015152   \n",
       "\n",
       "   domainLink  tagRatio  imageTagRatio  lengthyDomain  \\\n",
       "0           0  0.203161       3.120000              0   \n",
       "1           0  0.168189      13.100000              0   \n",
       "2           0  0.192652       0.126582              1   \n",
       "3           0  0.198000       0.135593              1   \n",
       "4           0  0.241564       0.054217              0   \n",
       "\n",
       "   hyperlinkToAllWordsRatio  isFrontPageNews  alphanumCharCount  linksCount  \\\n",
       "0                        34                0                682         126   \n",
       "1                        12                0               3008          78   \n",
       "2                        17                0              11008         257   \n",
       "3                        28                0               4585         286   \n",
       "4                         3                0               1745          55   \n",
       "\n",
       "   wordCount  parametrizedLinkRatio  spellingErrorsRatio  label    id  \n",
       "0          1               0.531746             0.142857    1.0  3711  \n",
       "1          1               0.628205             0.000000    1.0  7222  \n",
       "2          5               0.466926             0.062500    1.0  3964  \n",
       "3          5               0.244755             0.085868    1.0  3697  \n",
       "4          1               0.072727             0.115044    1.0  4321  "
      ]
     },
     "execution_count": 274,
     "metadata": {},
     "output_type": "execute_result"
    }
   ],
   "source": [
    "df.head()"
   ]
  },
  {
   "cell_type": "code",
   "execution_count": 275,
   "metadata": {},
   "outputs": [
    {
     "data": {
      "text/plain": [
       "<AxesSubplot:xlabel='frameTagRatio', ylabel='Count'>"
      ]
     },
     "execution_count": 275,
     "metadata": {},
     "output_type": "execute_result"
    },
    {
     "data": {
      "image/png": "[encoded data removed]",
      "text/plain": [
       "<Figure size 432x288 with 1 Axes>"
      ]
     },
     "metadata": {
      "needs_background": "light"
     },
     "output_type": "display_data"
    }
   ],
   "source": [
    "sns.histplot(df[\"frameTagRatio\"])"
   ]
  },
  {
   "cell_type": "markdown",
   "metadata": {},
   "source": [
    "### Outliers"
   ]
  },
  {
   "cell_type": "code",
   "execution_count": 276,
   "metadata": {},
   "outputs": [
    {
     "data": {
      "image/png": "[encoded data removed]",
      "text/plain": [
       "<Figure size 432x288 with 1 Axes>"
      ]
     },
     "metadata": {
      "needs_background": "light"
     },
     "output_type": "display_data"
    },
    {
     "data": {
      "image/png": "[encoded data removed]",
      "text/plain": [
       "<Figure size 432x288 with 1 Axes>"
      ]
     },
     "metadata": {
      "needs_background": "light"
     },
     "output_type": "display_data"
    }
   ],
   "source": [
    "# plt.figure(12,10)\n",
    "plt.show(sns.boxplot(x=df['wordCount']))\n",
    "plt.show(sns.boxplot(x=df['frameTagRatio']))"
   ]
  },
  {
   "cell_type": "code",
   "execution_count": 277,
   "metadata": {},
   "outputs": [
    {
     "data": {
      "text/plain": [
       "<AxesSubplot:xlabel='wordCount'>"
      ]
     },
     "execution_count": 277,
     "metadata": {},
     "output_type": "execute_result"
    },
    {
     "data": {
      "image/png": "[encoded data removed]",
      "text/plain": [
       "<Figure size 432x288 with 1 Axes>"
      ]
     },
     "metadata": {
      "needs_background": "light"
     },
     "output_type": "display_data"
    }
   ],
   "source": [
    "sns.boxplot(x=df['wordCount'])"
   ]
  },
  {
   "cell_type": "code",
   "execution_count": 278,
   "metadata": {},
   "outputs": [
    {
     "data": {
      "text/plain": [
       "0    7238\n",
       "1     157\n",
       "Name: domainLink, dtype: int64"
      ]
     },
     "execution_count": 278,
     "metadata": {},
     "output_type": "execute_result"
    },
    {
     "data": {
      "image/png": "[encoded data removed]",
      "text/plain": [
       "<Figure size 432x288 with 1 Axes>"
      ]
     },
     "metadata": {
      "needs_background": "light"
     },
     "output_type": "display_data"
    }
   ],
   "source": [
    "sns.boxplot(x=df['domainLink'])\n",
    "df[\"domainLink\"].value_counts()"
   ]
  },
  {
   "cell_type": "code",
   "execution_count": 279,
   "metadata": {},
   "outputs": [
    {
     "data": {
      "text/html": [
       "<div>\n",
       "<style scoped>\n",
       "    .dataframe tbody tr th:only-of-type {\n",
       "        vertical-align: middle;\n",
       "    }\n",
       "\n",
       "    .dataframe tbody tr th {\n",
       "        vertical-align: top;\n",
       "    }\n",
       "\n",
       "    .dataframe thead th {\n",
       "        text-align: right;\n",
       "    }\n",
       "</style>\n",
       "<table border=\"1\" class=\"dataframe\">\n",
       "  <thead>\n",
       "    <tr style=\"text-align: right;\">\n",
       "      <th></th>\n",
       "      <th>alchemy_category</th>\n",
       "      <th>alchemy_category_score</th>\n",
       "      <th>avgLinkWordLength</th>\n",
       "      <th>AvglinkWithOneCommonWord</th>\n",
       "      <th>AvglinkWithTwoCommonWord</th>\n",
       "      <th>AvglinkWithThreeCommonWord</th>\n",
       "      <th>AvglinkWithFourCommonWord</th>\n",
       "      <th>redundancyMeasure</th>\n",
       "      <th>embedRatio</th>\n",
       "      <th>frameTagRatio</th>\n",
       "      <th>domainLink</th>\n",
       "      <th>tagRatio</th>\n",
       "      <th>imageTagRatio</th>\n",
       "      <th>lengthyDomain</th>\n",
       "      <th>hyperlinkToAllWordsRatio</th>\n",
       "      <th>isFrontPageNews</th>\n",
       "      <th>alphanumCharCount</th>\n",
       "      <th>linksCount</th>\n",
       "      <th>wordCount</th>\n",
       "      <th>parametrizedLinkRatio</th>\n",
       "      <th>spellingErrorsRatio</th>\n",
       "      <th>label</th>\n",
       "      <th>id</th>\n",
       "    </tr>\n",
       "  </thead>\n",
       "  <tbody>\n",
       "    <tr>\n",
       "      <th>count</th>\n",
       "      <td>7395.000000</td>\n",
       "      <td>7395.000000</td>\n",
       "      <td>7395.000000</td>\n",
       "      <td>7395.000000</td>\n",
       "      <td>7395.000000</td>\n",
       "      <td>7395.000000</td>\n",
       "      <td>7395.000000</td>\n",
       "      <td>7395.000000</td>\n",
       "      <td>7395.000000</td>\n",
       "      <td>7395.000000</td>\n",
       "      <td>7395.000000</td>\n",
       "      <td>7395.000000</td>\n",
       "      <td>7395.000000</td>\n",
       "      <td>7395.000000</td>\n",
       "      <td>7395.000000</td>\n",
       "      <td>7395.000000</td>\n",
       "      <td>7395.000000</td>\n",
       "      <td>7395.000000</td>\n",
       "      <td>7395.000000</td>\n",
       "      <td>7395.000000</td>\n",
       "      <td>7395.000000</td>\n",
       "      <td>5916.000000</td>\n",
       "      <td>7395.000000</td>\n",
       "    </tr>\n",
       "    <tr>\n",
       "      <th>mean</th>\n",
       "      <td>6.352535</td>\n",
       "      <td>0.610391</td>\n",
       "      <td>2.761823</td>\n",
       "      <td>0.468230</td>\n",
       "      <td>0.214080</td>\n",
       "      <td>0.092062</td>\n",
       "      <td>0.049262</td>\n",
       "      <td>2.255103</td>\n",
       "      <td>-0.103750</td>\n",
       "      <td>0.056423</td>\n",
       "      <td>0.021231</td>\n",
       "      <td>0.233778</td>\n",
       "      <td>0.275709</td>\n",
       "      <td>0.660311</td>\n",
       "      <td>30.077079</td>\n",
       "      <td>0.039757</td>\n",
       "      <td>5716.598242</td>\n",
       "      <td>178.754564</td>\n",
       "      <td>4.960649</td>\n",
       "      <td>0.172864</td>\n",
       "      <td>0.101221</td>\n",
       "      <td>0.517241</td>\n",
       "      <td>3697.000000</td>\n",
       "    </tr>\n",
       "    <tr>\n",
       "      <th>std</th>\n",
       "      <td>4.235302</td>\n",
       "      <td>0.176257</td>\n",
       "      <td>8.619793</td>\n",
       "      <td>0.203133</td>\n",
       "      <td>0.146743</td>\n",
       "      <td>0.095978</td>\n",
       "      <td>0.072629</td>\n",
       "      <td>5.704313</td>\n",
       "      <td>0.306545</td>\n",
       "      <td>0.041446</td>\n",
       "      <td>0.144162</td>\n",
       "      <td>0.052487</td>\n",
       "      <td>1.919320</td>\n",
       "      <td>0.473636</td>\n",
       "      <td>20.393101</td>\n",
       "      <td>0.195400</td>\n",
       "      <td>8875.432430</td>\n",
       "      <td>179.466198</td>\n",
       "      <td>3.233111</td>\n",
       "      <td>0.183286</td>\n",
       "      <td>0.079231</td>\n",
       "      <td>0.499745</td>\n",
       "      <td>2134.896953</td>\n",
       "    </tr>\n",
       "    <tr>\n",
       "      <th>min</th>\n",
       "      <td>0.000000</td>\n",
       "      <td>0.070833</td>\n",
       "      <td>0.000000</td>\n",
       "      <td>0.000000</td>\n",
       "      <td>0.000000</td>\n",
       "      <td>0.000000</td>\n",
       "      <td>0.000000</td>\n",
       "      <td>0.000000</td>\n",
       "      <td>-1.000000</td>\n",
       "      <td>0.000000</td>\n",
       "      <td>0.000000</td>\n",
       "      <td>0.045564</td>\n",
       "      <td>-1.000000</td>\n",
       "      <td>0.000000</td>\n",
       "      <td>0.000000</td>\n",
       "      <td>0.000000</td>\n",
       "      <td>0.000000</td>\n",
       "      <td>1.000000</td>\n",
       "      <td>0.000000</td>\n",
       "      <td>0.000000</td>\n",
       "      <td>0.000000</td>\n",
       "      <td>0.000000</td>\n",
       "      <td>0.000000</td>\n",
       "    </tr>\n",
       "    <tr>\n",
       "      <th>25%</th>\n",
       "      <td>2.000000</td>\n",
       "      <td>0.538758</td>\n",
       "      <td>1.602062</td>\n",
       "      <td>0.340370</td>\n",
       "      <td>0.105263</td>\n",
       "      <td>0.022222</td>\n",
       "      <td>0.000000</td>\n",
       "      <td>0.442616</td>\n",
       "      <td>0.000000</td>\n",
       "      <td>0.028502</td>\n",
       "      <td>0.000000</td>\n",
       "      <td>0.201061</td>\n",
       "      <td>0.025900</td>\n",
       "      <td>0.000000</td>\n",
       "      <td>14.000000</td>\n",
       "      <td>0.000000</td>\n",
       "      <td>1579.000000</td>\n",
       "      <td>82.000000</td>\n",
       "      <td>3.000000</td>\n",
       "      <td>0.040984</td>\n",
       "      <td>0.068739</td>\n",
       "      <td>0.000000</td>\n",
       "      <td>1848.500000</td>\n",
       "    </tr>\n",
       "    <tr>\n",
       "      <th>50%</th>\n",
       "      <td>7.000000</td>\n",
       "      <td>0.625616</td>\n",
       "      <td>2.088235</td>\n",
       "      <td>0.481481</td>\n",
       "      <td>0.202454</td>\n",
       "      <td>0.068627</td>\n",
       "      <td>0.022222</td>\n",
       "      <td>0.483680</td>\n",
       "      <td>0.000000</td>\n",
       "      <td>0.045775</td>\n",
       "      <td>0.000000</td>\n",
       "      <td>0.230564</td>\n",
       "      <td>0.083051</td>\n",
       "      <td>1.000000</td>\n",
       "      <td>25.000000</td>\n",
       "      <td>0.000000</td>\n",
       "      <td>3500.000000</td>\n",
       "      <td>139.000000</td>\n",
       "      <td>5.000000</td>\n",
       "      <td>0.113402</td>\n",
       "      <td>0.089312</td>\n",
       "      <td>1.000000</td>\n",
       "      <td>3697.000000</td>\n",
       "    </tr>\n",
       "    <tr>\n",
       "      <th>75%</th>\n",
       "      <td>11.000000</td>\n",
       "      <td>0.708279</td>\n",
       "      <td>2.627451</td>\n",
       "      <td>0.616604</td>\n",
       "      <td>0.300000</td>\n",
       "      <td>0.133333</td>\n",
       "      <td>0.065065</td>\n",
       "      <td>0.578227</td>\n",
       "      <td>0.000000</td>\n",
       "      <td>0.073459</td>\n",
       "      <td>0.000000</td>\n",
       "      <td>0.260770</td>\n",
       "      <td>0.236700</td>\n",
       "      <td>1.000000</td>\n",
       "      <td>43.000000</td>\n",
       "      <td>0.000000</td>\n",
       "      <td>6377.000000</td>\n",
       "      <td>222.000000</td>\n",
       "      <td>7.000000</td>\n",
       "      <td>0.241299</td>\n",
       "      <td>0.112376</td>\n",
       "      <td>1.000000</td>\n",
       "      <td>5545.500000</td>\n",
       "    </tr>\n",
       "    <tr>\n",
       "      <th>max</th>\n",
       "      <td>12.000000</td>\n",
       "      <td>0.999426</td>\n",
       "      <td>363.000000</td>\n",
       "      <td>1.000000</td>\n",
       "      <td>1.000000</td>\n",
       "      <td>0.980392</td>\n",
       "      <td>0.980392</td>\n",
       "      <td>21.000000</td>\n",
       "      <td>0.250000</td>\n",
       "      <td>0.444444</td>\n",
       "      <td>1.000000</td>\n",
       "      <td>0.716883</td>\n",
       "      <td>113.333333</td>\n",
       "      <td>1.000000</td>\n",
       "      <td>100.000000</td>\n",
       "      <td>1.000000</td>\n",
       "      <td>207952.000000</td>\n",
       "      <td>4997.000000</td>\n",
       "      <td>22.000000</td>\n",
       "      <td>1.000000</td>\n",
       "      <td>1.000000</td>\n",
       "      <td>1.000000</td>\n",
       "      <td>7394.000000</td>\n",
       "    </tr>\n",
       "  </tbody>\n",
       "</table>\n",
       "</div>"
      ],
      "text/plain": [
       "       alchemy_category  alchemy_category_score  avgLinkWordLength  \\\n",
       "count       7395.000000             7395.000000        7395.000000   \n",
       "mean           6.352535                0.610391           2.761823   \n",
       "std            4.235302                0.176257           8.619793   \n",
       "min            0.000000                0.070833           0.000000   \n",
       "25%            2.000000                0.538758           1.602062   \n",
       "50%            7.000000                0.625616           2.088235   \n",
       "75%           11.000000                0.708279           2.627451   \n",
       "max           12.000000                0.999426         363.000000   \n",
       "\n",
       "       AvglinkWithOneCommonWord  AvglinkWithTwoCommonWord  \\\n",
       "count               7395.000000               7395.000000   \n",
       "mean                   0.468230                  0.214080   \n",
       "std                    0.203133                  0.146743   \n",
       "min                    0.000000                  0.000000   \n",
       "25%                    0.340370                  0.105263   \n",
       "50%                    0.481481                  0.202454   \n",
       "75%                    0.616604                  0.300000   \n",
       "max                    1.000000                  1.000000   \n",
       "\n",
       "       AvglinkWithThreeCommonWord  AvglinkWithFourCommonWord  \\\n",
       "count                 7395.000000                7395.000000   \n",
       "mean                     0.092062                   0.049262   \n",
       "std                      0.095978                   0.072629   \n",
       "min                      0.000000                   0.000000   \n",
       "25%                      0.022222                   0.000000   \n",
       "50%                      0.068627                   0.022222   \n",
       "75%                      0.133333                   0.065065   \n",
       "max                      0.980392                   0.980392   \n",
       "\n",
       "       redundancyMeasure   embedRatio  frameTagRatio   domainLink  \\\n",
       "count        7395.000000  7395.000000    7395.000000  7395.000000   \n",
       "mean            2.255103    -0.103750       0.056423     0.021231   \n",
       "std             5.704313     0.306545       0.041446     0.144162   \n",
       "min             0.000000    -1.000000       0.000000     0.000000   \n",
       "25%             0.442616     0.000000       0.028502     0.000000   \n",
       "50%             0.483680     0.000000       0.045775     0.000000   \n",
       "75%             0.578227     0.000000       0.073459     0.000000   \n",
       "max            21.000000     0.250000       0.444444     1.000000   \n",
       "\n",
       "          tagRatio  imageTagRatio  lengthyDomain  hyperlinkToAllWordsRatio  \\\n",
       "count  7395.000000    7395.000000    7395.000000               7395.000000   \n",
       "mean      0.233778       0.275709       0.660311                 30.077079   \n",
       "std       0.052487       1.919320       0.473636                 20.393101   \n",
       "min       0.045564      -1.000000       0.000000                  0.000000   \n",
       "25%       0.201061       0.025900       0.000000                 14.000000   \n",
       "50%       0.230564       0.083051       1.000000                 25.000000   \n",
       "75%       0.260770       0.236700       1.000000                 43.000000   \n",
       "max       0.716883     113.333333       1.000000                100.000000   \n",
       "\n",
       "       isFrontPageNews  alphanumCharCount   linksCount    wordCount  \\\n",
       "count      7395.000000        7395.000000  7395.000000  7395.000000   \n",
       "mean          0.039757        5716.598242   178.754564     4.960649   \n",
       "std           0.195400        8875.432430   179.466198     3.233111   \n",
       "min           0.000000           0.000000     1.000000     0.000000   \n",
       "25%           0.000000        1579.000000    82.000000     3.000000   \n",
       "50%           0.000000        3500.000000   139.000000     5.000000   \n",
       "75%           0.000000        6377.000000   222.000000     7.000000   \n",
       "max           1.000000      207952.000000  4997.000000    22.000000   \n",
       "\n",
       "       parametrizedLinkRatio  spellingErrorsRatio        label           id  \n",
       "count            7395.000000          7395.000000  5916.000000  7395.000000  \n",
       "mean                0.172864             0.101221     0.517241  3697.000000  \n",
       "std                 0.183286             0.079231     0.499745  2134.896953  \n",
       "min                 0.000000             0.000000     0.000000     0.000000  \n",
       "25%                 0.040984             0.068739     0.000000  1848.500000  \n",
       "50%                 0.113402             0.089312     1.000000  3697.000000  \n",
       "75%                 0.241299             0.112376     1.000000  5545.500000  \n",
       "max                 1.000000             1.000000     1.000000  7394.000000  "
      ]
     },
     "execution_count": 279,
     "metadata": {},
     "output_type": "execute_result"
    }
   ],
   "source": [
    "df.describe()"
   ]
  },
  {
   "cell_type": "code",
   "execution_count": 280,
   "metadata": {},
   "outputs": [],
   "source": [
    "class OutlierRemoval: \n",
    "    def __init__(self, lower_quartile, upper_quartile):\n",
    "        self.lower_whisker = lower_quartile - 1.5*(upper_quartile - lower_quartile)\n",
    "        self.upper_whisker = upper_quartile + 1.5*(upper_quartile - lower_quartile)\n",
    "    def removeOutlier(self, x):\n",
    "        return (x if x <= self.upper_whisker and x >= self.lower_whisker else (self.lower_whisker if x < self.lower_whisker else (self.upper_whisker)))"
   ]
  },
  {
   "cell_type": "code",
   "execution_count": 281,
   "metadata": {},
   "outputs": [],
   "source": [
    "# df.columns"
   ]
  },
  {
   "cell_type": "code",
   "execution_count": 282,
   "metadata": {},
   "outputs": [
    {
     "data": {
      "text/plain": [
       "[1, 2, 3, 4, 5, 6, 7, 8, 10, 12, 13, 14, 15, 17, 18, 19, 20, 21]"
      ]
     },
     "execution_count": 282,
     "metadata": {},
     "output_type": "execute_result"
    }
   ],
   "source": [
    "column_index = []\n",
    "for i in range(0, len(df.columns)):\n",
    "    column_index.append(i)\n",
    "\n",
    "remove_columns = ['webpageDescription', 'embedRatio', 'domainLink', 'isFrontPageNews', 'label', 'id']\n",
    "index_number_to_remove = []\n",
    "for col in remove_columns:\n",
    "    index_number_to_remove.append(df.columns.get_loc(col))\n",
    "\n",
    "for index in index_number_to_remove:\n",
    "    column_index.remove(index)\n",
    "column_index\n"
   ]
  },
  {
   "cell_type": "code",
   "execution_count": 283,
   "metadata": {},
   "outputs": [
    {
     "data": {
      "text/plain": [
       "Index(['webpageDescription', 'alchemy_category', 'alchemy_category_score',\n",
       "       'avgLinkWordLength', 'AvglinkWithOneCommonWord',\n",
       "       'AvglinkWithTwoCommonWord', 'AvglinkWithThreeCommonWord',\n",
       "       'AvglinkWithFourCommonWord', 'redundancyMeasure', 'embedRatio',\n",
       "       'frameTagRatio', 'domainLink', 'tagRatio', 'imageTagRatio',\n",
       "       'lengthyDomain', 'hyperlinkToAllWordsRatio', 'isFrontPageNews',\n",
       "       'alphanumCharCount', 'linksCount', 'wordCount', 'parametrizedLinkRatio',\n",
       "       'spellingErrorsRatio', 'label', 'id'],\n",
       "      dtype='object')"
      ]
     },
     "execution_count": 283,
     "metadata": {},
     "output_type": "execute_result"
    }
   ],
   "source": [
    "df.columns"
   ]
  },
  {
   "cell_type": "code",
   "execution_count": 284,
   "metadata": {},
   "outputs": [],
   "source": [
    "for i in range(1, 21):\n",
    "    column = df.iloc[:,i]\n",
    "    # print(column.name)\n",
    "    column_outlier_class = OutlierRemoval(column.quantile(0.25), column.quantile(0.75))\n",
    "    outlier_removed_column = column.apply(column_outlier_class.removeOutlier)\n",
    "    df[column.name] = outlier_removed_column"
   ]
  },
  {
   "cell_type": "code",
   "execution_count": 285,
   "metadata": {},
   "outputs": [
    {
     "data": {
      "text/html": [
       "<div>\n",
       "<style scoped>\n",
       "    .dataframe tbody tr th:only-of-type {\n",
       "        vertical-align: middle;\n",
       "    }\n",
       "\n",
       "    .dataframe tbody tr th {\n",
       "        vertical-align: top;\n",
       "    }\n",
       "\n",
       "    .dataframe thead th {\n",
       "        text-align: right;\n",
       "    }\n",
       "</style>\n",
       "<table border=\"1\" class=\"dataframe\">\n",
       "  <thead>\n",
       "    <tr style=\"text-align: right;\">\n",
       "      <th></th>\n",
       "      <th>alchemy_category</th>\n",
       "      <th>alchemy_category_score</th>\n",
       "      <th>avgLinkWordLength</th>\n",
       "      <th>AvglinkWithOneCommonWord</th>\n",
       "      <th>AvglinkWithTwoCommonWord</th>\n",
       "      <th>AvglinkWithThreeCommonWord</th>\n",
       "      <th>AvglinkWithFourCommonWord</th>\n",
       "      <th>redundancyMeasure</th>\n",
       "      <th>embedRatio</th>\n",
       "      <th>frameTagRatio</th>\n",
       "      <th>domainLink</th>\n",
       "      <th>tagRatio</th>\n",
       "      <th>imageTagRatio</th>\n",
       "      <th>lengthyDomain</th>\n",
       "      <th>hyperlinkToAllWordsRatio</th>\n",
       "      <th>isFrontPageNews</th>\n",
       "      <th>alphanumCharCount</th>\n",
       "      <th>linksCount</th>\n",
       "      <th>wordCount</th>\n",
       "      <th>parametrizedLinkRatio</th>\n",
       "      <th>spellingErrorsRatio</th>\n",
       "      <th>label</th>\n",
       "      <th>id</th>\n",
       "    </tr>\n",
       "  </thead>\n",
       "  <tbody>\n",
       "    <tr>\n",
       "      <th>count</th>\n",
       "      <td>7395.000000</td>\n",
       "      <td>7395.000000</td>\n",
       "      <td>7395.000000</td>\n",
       "      <td>7395.000000</td>\n",
       "      <td>7395.000000</td>\n",
       "      <td>7395.000000</td>\n",
       "      <td>7395.000000</td>\n",
       "      <td>7395.000000</td>\n",
       "      <td>7395.0</td>\n",
       "      <td>7395.000000</td>\n",
       "      <td>7395.0</td>\n",
       "      <td>7395.000000</td>\n",
       "      <td>7395.000000</td>\n",
       "      <td>7395.000000</td>\n",
       "      <td>7395.000000</td>\n",
       "      <td>7395.0</td>\n",
       "      <td>7395.000000</td>\n",
       "      <td>7395.000000</td>\n",
       "      <td>7395.000000</td>\n",
       "      <td>7395.000000</td>\n",
       "      <td>7395.000000</td>\n",
       "      <td>5916.000000</td>\n",
       "      <td>7395.000000</td>\n",
       "    </tr>\n",
       "    <tr>\n",
       "      <th>mean</th>\n",
       "      <td>6.352535</td>\n",
       "      <td>0.615594</td>\n",
       "      <td>2.176219</td>\n",
       "      <td>0.468230</td>\n",
       "      <td>0.212331</td>\n",
       "      <td>0.088043</td>\n",
       "      <td>0.043010</td>\n",
       "      <td>0.524811</td>\n",
       "      <td>0.0</td>\n",
       "      <td>0.054424</td>\n",
       "      <td>0.0</td>\n",
       "      <td>0.232441</td>\n",
       "      <td>0.137541</td>\n",
       "      <td>0.660311</td>\n",
       "      <td>30.016092</td>\n",
       "      <td>0.0</td>\n",
       "      <td>4607.409060</td>\n",
       "      <td>165.698445</td>\n",
       "      <td>4.932792</td>\n",
       "      <td>0.163620</td>\n",
       "      <td>0.101221</td>\n",
       "      <td>0.517241</td>\n",
       "      <td>3697.000000</td>\n",
       "    </tr>\n",
       "    <tr>\n",
       "      <th>std</th>\n",
       "      <td>4.235302</td>\n",
       "      <td>0.163642</td>\n",
       "      <td>0.867536</td>\n",
       "      <td>0.203133</td>\n",
       "      <td>0.141050</td>\n",
       "      <td>0.081027</td>\n",
       "      <td>0.051346</td>\n",
       "      <td>0.129993</td>\n",
       "      <td>0.0</td>\n",
       "      <td>0.034233</td>\n",
       "      <td>0.0</td>\n",
       "      <td>0.047146</td>\n",
       "      <td>0.223536</td>\n",
       "      <td>0.473636</td>\n",
       "      <td>20.209054</td>\n",
       "      <td>0.0</td>\n",
       "      <td>3928.891421</td>\n",
       "      <td>115.162445</td>\n",
       "      <td>3.146749</td>\n",
       "      <td>0.155792</td>\n",
       "      <td>0.079231</td>\n",
       "      <td>0.499745</td>\n",
       "      <td>2134.896953</td>\n",
       "    </tr>\n",
       "    <tr>\n",
       "      <th>min</th>\n",
       "      <td>0.000000</td>\n",
       "      <td>0.284475</td>\n",
       "      <td>0.063979</td>\n",
       "      <td>0.000000</td>\n",
       "      <td>0.000000</td>\n",
       "      <td>0.000000</td>\n",
       "      <td>0.000000</td>\n",
       "      <td>0.239200</td>\n",
       "      <td>0.0</td>\n",
       "      <td>0.000000</td>\n",
       "      <td>0.0</td>\n",
       "      <td>0.111499</td>\n",
       "      <td>-0.290300</td>\n",
       "      <td>0.000000</td>\n",
       "      <td>0.000000</td>\n",
       "      <td>0.0</td>\n",
       "      <td>0.000000</td>\n",
       "      <td>1.000000</td>\n",
       "      <td>0.000000</td>\n",
       "      <td>0.000000</td>\n",
       "      <td>0.000000</td>\n",
       "      <td>0.000000</td>\n",
       "      <td>0.000000</td>\n",
       "    </tr>\n",
       "    <tr>\n",
       "      <th>25%</th>\n",
       "      <td>2.000000</td>\n",
       "      <td>0.538758</td>\n",
       "      <td>1.602062</td>\n",
       "      <td>0.340370</td>\n",
       "      <td>0.105263</td>\n",
       "      <td>0.022222</td>\n",
       "      <td>0.000000</td>\n",
       "      <td>0.442616</td>\n",
       "      <td>0.0</td>\n",
       "      <td>0.028502</td>\n",
       "      <td>0.0</td>\n",
       "      <td>0.201061</td>\n",
       "      <td>0.025900</td>\n",
       "      <td>0.000000</td>\n",
       "      <td>14.000000</td>\n",
       "      <td>0.0</td>\n",
       "      <td>1579.000000</td>\n",
       "      <td>82.000000</td>\n",
       "      <td>3.000000</td>\n",
       "      <td>0.040984</td>\n",
       "      <td>0.068739</td>\n",
       "      <td>0.000000</td>\n",
       "      <td>1848.500000</td>\n",
       "    </tr>\n",
       "    <tr>\n",
       "      <th>50%</th>\n",
       "      <td>7.000000</td>\n",
       "      <td>0.625616</td>\n",
       "      <td>2.088235</td>\n",
       "      <td>0.481481</td>\n",
       "      <td>0.202454</td>\n",
       "      <td>0.068627</td>\n",
       "      <td>0.022222</td>\n",
       "      <td>0.483680</td>\n",
       "      <td>0.0</td>\n",
       "      <td>0.045775</td>\n",
       "      <td>0.0</td>\n",
       "      <td>0.230564</td>\n",
       "      <td>0.083051</td>\n",
       "      <td>1.000000</td>\n",
       "      <td>25.000000</td>\n",
       "      <td>0.0</td>\n",
       "      <td>3500.000000</td>\n",
       "      <td>139.000000</td>\n",
       "      <td>5.000000</td>\n",
       "      <td>0.113402</td>\n",
       "      <td>0.089312</td>\n",
       "      <td>1.000000</td>\n",
       "      <td>3697.000000</td>\n",
       "    </tr>\n",
       "    <tr>\n",
       "      <th>75%</th>\n",
       "      <td>11.000000</td>\n",
       "      <td>0.708279</td>\n",
       "      <td>2.627451</td>\n",
       "      <td>0.616604</td>\n",
       "      <td>0.300000</td>\n",
       "      <td>0.133333</td>\n",
       "      <td>0.065065</td>\n",
       "      <td>0.578227</td>\n",
       "      <td>0.0</td>\n",
       "      <td>0.073459</td>\n",
       "      <td>0.0</td>\n",
       "      <td>0.260770</td>\n",
       "      <td>0.236700</td>\n",
       "      <td>1.000000</td>\n",
       "      <td>43.000000</td>\n",
       "      <td>0.0</td>\n",
       "      <td>6377.000000</td>\n",
       "      <td>222.000000</td>\n",
       "      <td>7.000000</td>\n",
       "      <td>0.241299</td>\n",
       "      <td>0.112376</td>\n",
       "      <td>1.000000</td>\n",
       "      <td>5545.500000</td>\n",
       "    </tr>\n",
       "    <tr>\n",
       "      <th>max</th>\n",
       "      <td>12.000000</td>\n",
       "      <td>0.962561</td>\n",
       "      <td>4.165534</td>\n",
       "      <td>1.000000</td>\n",
       "      <td>0.592105</td>\n",
       "      <td>0.300000</td>\n",
       "      <td>0.162662</td>\n",
       "      <td>0.781643</td>\n",
       "      <td>0.0</td>\n",
       "      <td>0.140893</td>\n",
       "      <td>0.0</td>\n",
       "      <td>0.350332</td>\n",
       "      <td>0.552900</td>\n",
       "      <td>1.000000</td>\n",
       "      <td>86.500000</td>\n",
       "      <td>0.0</td>\n",
       "      <td>13574.000000</td>\n",
       "      <td>432.000000</td>\n",
       "      <td>13.000000</td>\n",
       "      <td>0.541771</td>\n",
       "      <td>1.000000</td>\n",
       "      <td>1.000000</td>\n",
       "      <td>7394.000000</td>\n",
       "    </tr>\n",
       "  </tbody>\n",
       "</table>\n",
       "</div>"
      ],
      "text/plain": [
       "       alchemy_category  alchemy_category_score  avgLinkWordLength  \\\n",
       "count       7395.000000             7395.000000        7395.000000   \n",
       "mean           6.352535                0.615594           2.176219   \n",
       "std            4.235302                0.163642           0.867536   \n",
       "min            0.000000                0.284475           0.063979   \n",
       "25%            2.000000                0.538758           1.602062   \n",
       "50%            7.000000                0.625616           2.088235   \n",
       "75%           11.000000                0.708279           2.627451   \n",
       "max           12.000000                0.962561           4.165534   \n",
       "\n",
       "       AvglinkWithOneCommonWord  AvglinkWithTwoCommonWord  \\\n",
       "count               7395.000000               7395.000000   \n",
       "mean                   0.468230                  0.212331   \n",
       "std                    0.203133                  0.141050   \n",
       "min                    0.000000                  0.000000   \n",
       "25%                    0.340370                  0.105263   \n",
       "50%                    0.481481                  0.202454   \n",
       "75%                    0.616604                  0.300000   \n",
       "max                    1.000000                  0.592105   \n",
       "\n",
       "       AvglinkWithThreeCommonWord  AvglinkWithFourCommonWord  \\\n",
       "count                 7395.000000                7395.000000   \n",
       "mean                     0.088043                   0.043010   \n",
       "std                      0.081027                   0.051346   \n",
       "min                      0.000000                   0.000000   \n",
       "25%                      0.022222                   0.000000   \n",
       "50%                      0.068627                   0.022222   \n",
       "75%                      0.133333                   0.065065   \n",
       "max                      0.300000                   0.162662   \n",
       "\n",
       "       redundancyMeasure  embedRatio  frameTagRatio  domainLink     tagRatio  \\\n",
       "count        7395.000000      7395.0    7395.000000      7395.0  7395.000000   \n",
       "mean            0.524811         0.0       0.054424         0.0     0.232441   \n",
       "std             0.129993         0.0       0.034233         0.0     0.047146   \n",
       "min             0.239200         0.0       0.000000         0.0     0.111499   \n",
       "25%             0.442616         0.0       0.028502         0.0     0.201061   \n",
       "50%             0.483680         0.0       0.045775         0.0     0.230564   \n",
       "75%             0.578227         0.0       0.073459         0.0     0.260770   \n",
       "max             0.781643         0.0       0.140893         0.0     0.350332   \n",
       "\n",
       "       imageTagRatio  lengthyDomain  hyperlinkToAllWordsRatio  \\\n",
       "count    7395.000000    7395.000000               7395.000000   \n",
       "mean        0.137541       0.660311                 30.016092   \n",
       "std         0.223536       0.473636                 20.209054   \n",
       "min        -0.290300       0.000000                  0.000000   \n",
       "25%         0.025900       0.000000                 14.000000   \n",
       "50%         0.083051       1.000000                 25.000000   \n",
       "75%         0.236700       1.000000                 43.000000   \n",
       "max         0.552900       1.000000                 86.500000   \n",
       "\n",
       "       isFrontPageNews  alphanumCharCount   linksCount    wordCount  \\\n",
       "count           7395.0        7395.000000  7395.000000  7395.000000   \n",
       "mean               0.0        4607.409060   165.698445     4.932792   \n",
       "std                0.0        3928.891421   115.162445     3.146749   \n",
       "min                0.0           0.000000     1.000000     0.000000   \n",
       "25%                0.0        1579.000000    82.000000     3.000000   \n",
       "50%                0.0        3500.000000   139.000000     5.000000   \n",
       "75%                0.0        6377.000000   222.000000     7.000000   \n",
       "max                0.0       13574.000000   432.000000    13.000000   \n",
       "\n",
       "       parametrizedLinkRatio  spellingErrorsRatio        label           id  \n",
       "count            7395.000000          7395.000000  5916.000000  7395.000000  \n",
       "mean                0.163620             0.101221     0.517241  3697.000000  \n",
       "std                 0.155792             0.079231     0.499745  2134.896953  \n",
       "min                 0.000000             0.000000     0.000000     0.000000  \n",
       "25%                 0.040984             0.068739     0.000000  1848.500000  \n",
       "50%                 0.113402             0.089312     1.000000  3697.000000  \n",
       "75%                 0.241299             0.112376     1.000000  5545.500000  \n",
       "max                 0.541771             1.000000     1.000000  7394.000000  "
      ]
     },
     "execution_count": 285,
     "metadata": {},
     "output_type": "execute_result"
    }
   ],
   "source": [
    "df.describe()"
   ]
  },
  {
   "cell_type": "markdown",
   "metadata": {},
   "source": [
    "## NLP"
   ]
  },
  {
   "cell_type": "code",
   "execution_count": 286,
   "metadata": {},
   "outputs": [
    {
     "data": {
      "text/html": [
       "<div>\n",
       "<style scoped>\n",
       "    .dataframe tbody tr th:only-of-type {\n",
       "        vertical-align: middle;\n",
       "    }\n",
       "\n",
       "    .dataframe tbody tr th {\n",
       "        vertical-align: top;\n",
       "    }\n",
       "\n",
       "    .dataframe thead th {\n",
       "        text-align: right;\n",
       "    }\n",
       "</style>\n",
       "<table border=\"1\" class=\"dataframe\">\n",
       "  <thead>\n",
       "    <tr style=\"text-align: right;\">\n",
       "      <th></th>\n",
       "      <th>label</th>\n",
       "      <th>webpageDescription</th>\n",
       "    </tr>\n",
       "  </thead>\n",
       "  <tbody>\n",
       "    <tr>\n",
       "      <th>0</th>\n",
       "      <td>1.0</td>\n",
       "      <td>{\"title\":\"Join Polyvore and follow the latest ...</td>\n",
       "    </tr>\n",
       "    <tr>\n",
       "      <th>1</th>\n",
       "      <td>1.0</td>\n",
       "      <td>{\"body\":\"Speed Air Man--David Belle david bell...</td>\n",
       "    </tr>\n",
       "    <tr>\n",
       "      <th>2</th>\n",
       "      <td>1.0</td>\n",
       "      <td>{\"title\":\"Chicken Gruyere Recipe \",\"body\":\"Chi...</td>\n",
       "    </tr>\n",
       "    <tr>\n",
       "      <th>3</th>\n",
       "      <td>1.0</td>\n",
       "      <td>{\"title\":\"Ikan Bilis With Tempeh Groundnuts \",...</td>\n",
       "    </tr>\n",
       "    <tr>\n",
       "      <th>4</th>\n",
       "      <td>1.0</td>\n",
       "      <td>{\"url\":\"recipes wuzzle org index php 72\",\"titl...</td>\n",
       "    </tr>\n",
       "  </tbody>\n",
       "</table>\n",
       "</div>"
      ],
      "text/plain": [
       "   label                                 webpageDescription\n",
       "0    1.0  {\"title\":\"Join Polyvore and follow the latest ...\n",
       "1    1.0  {\"body\":\"Speed Air Man--David Belle david bell...\n",
       "2    1.0  {\"title\":\"Chicken Gruyere Recipe \",\"body\":\"Chi...\n",
       "3    1.0  {\"title\":\"Ikan Bilis With Tempeh Groundnuts \",...\n",
       "4    1.0  {\"url\":\"recipes wuzzle org index php 72\",\"titl..."
      ]
     },
     "execution_count": 286,
     "metadata": {},
     "output_type": "execute_result"
    }
   ],
   "source": [
    "columns = ['label', 'webpageDescription']\n",
    "df_nlp = df[columns]\n",
    "df_nlp.head()"
   ]
  },
  {
   "cell_type": "markdown",
   "metadata": {},
   "source": [
    "### Remove Punctuation, Tokenization, Remove Stopwords and Lemmatizing"
   ]
  },
  {
   "cell_type": "code",
   "execution_count": 287,
   "metadata": {},
   "outputs": [],
   "source": [
    "import string\n",
    "import re\n",
    "stopword = nltk.corpus.stopwords.words('english')\n",
    "ps = nltk.PorterStemmer()\n",
    "wn = nltk.WordNetLemmatizer()\n",
    "\n",
    "def nlp_func(text):\n",
    "    text = \"\".join([char for char in text if char not in string.punctuation])\n",
    "    tokens = re.split('\\W+', text)\n",
    "    # text = [ps.stem(word) for word in tokens if word not in stopword]\n",
    "    text = [wn.lemmatize(word) for word in tokens if word not in stopword]\n",
    "    return text"
   ]
  },
  {
   "cell_type": "markdown",
   "metadata": {},
   "source": [
    "# Coorelation :-"
   ]
  },
  {
   "cell_type": "code",
   "execution_count": 288,
   "metadata": {},
   "outputs": [],
   "source": [
    "df_of_id_label = df[['id', 'label']]"
   ]
  },
  {
   "cell_type": "code",
   "execution_count": 289,
   "metadata": {},
   "outputs": [
    {
     "name": "stdout",
     "output_type": "stream",
     "text": [
      "0.0    7395\n",
      "Name: embedRatio, dtype: int64\n",
      "0.0    7395\n",
      "Name: domainLink, dtype: int64\n",
      "0.0    7395\n",
      "Name: isFrontPageNews, dtype: int64\n"
     ]
    }
   ],
   "source": [
    "print(df[\"embedRatio\"].value_counts())\n",
    "print(df[\"domainLink\"].value_counts())\n",
    "print(df[\"isFrontPageNews\"].value_counts())\n",
    "df.drop(columns=['embedRatio'],inplace=True)\n",
    "df.drop(columns=['domainLink'],inplace=True)\n",
    "df.drop(columns=['isFrontPageNews'],inplace=True)"
   ]
  },
  {
   "cell_type": "code",
   "execution_count": 290,
   "metadata": {},
   "outputs": [],
   "source": [
    "df.drop(columns=['id'],inplace=True)"
   ]
  },
  {
   "cell_type": "code",
   "execution_count": 291,
   "metadata": {},
   "outputs": [
    {
     "data": {
      "text/plain": [
       "alchemy_category              0.007326\n",
       "alchemy_category_score        0.060706\n",
       "avgLinkWordLength             0.047644\n",
       "AvglinkWithOneCommonWord      0.094589\n",
       "AvglinkWithTwoCommonWord      0.097111\n",
       "AvglinkWithThreeCommonWord    0.115426\n",
       "AvglinkWithFourCommonWord     0.083836\n",
       "redundancyMeasure             0.107699\n",
       "frameTagRatio                 0.193054\n",
       "tagRatio                      0.060178\n",
       "imageTagRatio                 0.033482\n",
       "lengthyDomain                 0.037956\n",
       "hyperlinkToAllWordsRatio      0.171002\n",
       "alphanumCharCount             0.168612\n",
       "linksCount                    0.097703\n",
       "wordCount                     0.027606\n",
       "parametrizedLinkRatio         0.027918\n",
       "spellingErrorsRatio           0.066166\n",
       "label                         1.000000\n",
       "Name: label, dtype: float64"
      ]
     },
     "execution_count": 291,
     "metadata": {},
     "output_type": "execute_result"
    }
   ],
   "source": [
    "correlation_matrix = abs(df.corr())\n",
    "correlation_target = correlation_matrix[\"label\"]\n",
    "pd.set_option(\"display.max_rows\",None)\n",
    "correlation_target"
   ]
  },
  {
   "cell_type": "code",
   "execution_count": 292,
   "metadata": {},
   "outputs": [
    {
     "data": {
      "text/plain": [
       "['alchemy_category',\n",
       " 'alchemy_category_score',\n",
       " 'avgLinkWordLength',\n",
       " 'AvglinkWithOneCommonWord',\n",
       " 'AvglinkWithThreeCommonWord',\n",
       " 'frameTagRatio',\n",
       " 'tagRatio',\n",
       " 'imageTagRatio',\n",
       " 'alphanumCharCount',\n",
       " 'linksCount',\n",
       " 'wordCount',\n",
       " 'parametrizedLinkRatio']"
      ]
     },
     "execution_count": 292,
     "metadata": {},
     "output_type": "execute_result"
    }
   ],
   "source": [
    "array = []\n",
    "for col in correlation_target:\n",
    "    array.append(col)\n",
    "\n",
    "columns = df.columns\n",
    "\n",
    "columns_after_coorelation = []\n",
    "for i in range(len(array)):\n",
    "    if( array[i] < 0.1):\n",
    "        columns_after_coorelation.append(columns[i])\n",
    "\n",
    "columns_after_coorelation.remove('webpageDescription')\n",
    "columns_after_coorelation"
   ]
  },
  {
   "cell_type": "code",
   "execution_count": 293,
   "metadata": {},
   "outputs": [],
   "source": [
    "columns_after_coorelation.remove('AvglinkWithThreeCommonWord')\n",
    "columns_after_coorelation.remove('linksCount')\n",
    "# columns_after_coorelation.remove('tagRatio')"
   ]
  },
  {
   "cell_type": "code",
   "execution_count": 294,
   "metadata": {},
   "outputs": [
    {
     "data": {
      "image/png": "[encoded data removed]",
      "text/plain": [
       "<Figure size 1440x720 with 2 Axes>"
      ]
     },
     "metadata": {
      "needs_background": "light"
     },
     "output_type": "display_data"
    }
   ],
   "source": [
    "# Making Correlation Matrix Heat Map :-\n",
    "plt.figure(figsize=(20,10))\n",
    "plt.title = \"Correlation Matrix\"\n",
    "sns.heatmap(abs(df[columns_after_coorelation].corr()), annot=True)\n",
    "plt.show()"
   ]
  },
  {
   "cell_type": "markdown",
   "metadata": {},
   "source": [
    "\n",
    "# Vectorization"
   ]
  },
  {
   "cell_type": "code",
   "execution_count": 295,
   "metadata": {},
   "outputs": [
    {
     "data": {
      "text/plain": [
       "(7395, 22924)"
      ]
     },
     "execution_count": 295,
     "metadata": {},
     "output_type": "execute_result"
    }
   ],
   "source": [
    "tfidf_vect = TfidfVectorizer(sublinear_tf=True, strip_accents='unicode', tokenizer=lambda x: re.findall(r'[^\\p{p}\\W+', x), analyzer=nlp_func, \n",
    "                                    token_pattern='(?u)\\\\b\\\\w\\\\w+\\\\b\\\\w{,1}',min_df=5, norm='l2', ngram_range=(1,2))\n",
    "\n",
    "X_tfidf = tfidf_vect.fit_transform(df['webpageDescription']).toarray()\n",
    "X_tfidf.shape"
   ]
  },
  {
   "cell_type": "code",
   "execution_count": 296,
   "metadata": {},
   "outputs": [
    {
     "data": {
      "text/plain": [
       "(7395, 22924)"
      ]
     },
     "execution_count": 296,
     "metadata": {},
     "output_type": "execute_result"
    }
   ],
   "source": [
    "tf_idf_df = pd.DataFrame(X_tfidf)\n",
    "tf_idf_df.shape"
   ]
  },
  {
   "cell_type": "markdown",
   "metadata": {},
   "source": [
    "# Scaling and Merging with other features"
   ]
  },
  {
   "cell_type": "code",
   "execution_count": 297,
   "metadata": {},
   "outputs": [
    {
     "data": {
      "text/html": [
       "<div>\n",
       "<style scoped>\n",
       "    .dataframe tbody tr th:only-of-type {\n",
       "        vertical-align: middle;\n",
       "    }\n",
       "\n",
       "    .dataframe tbody tr th {\n",
       "        vertical-align: top;\n",
       "    }\n",
       "\n",
       "    .dataframe thead th {\n",
       "        text-align: right;\n",
       "    }\n",
       "</style>\n",
       "<table border=\"1\" class=\"dataframe\">\n",
       "  <thead>\n",
       "    <tr style=\"text-align: right;\">\n",
       "      <th></th>\n",
       "      <th>alchemy_category</th>\n",
       "      <th>alchemy_category_score</th>\n",
       "      <th>avgLinkWordLength</th>\n",
       "      <th>AvglinkWithOneCommonWord</th>\n",
       "      <th>frameTagRatio</th>\n",
       "      <th>tagRatio</th>\n",
       "      <th>imageTagRatio</th>\n",
       "      <th>alphanumCharCount</th>\n",
       "      <th>wordCount</th>\n",
       "      <th>parametrizedLinkRatio</th>\n",
       "    </tr>\n",
       "  </thead>\n",
       "  <tbody>\n",
       "    <tr>\n",
       "      <th>0</th>\n",
       "      <td>11</td>\n",
       "      <td>0.625616</td>\n",
       "      <td>1.916667</td>\n",
       "      <td>0.047619</td>\n",
       "      <td>0.027778</td>\n",
       "      <td>0.203161</td>\n",
       "      <td>0.552900</td>\n",
       "      <td>682.0</td>\n",
       "      <td>1.0</td>\n",
       "      <td>0.531746</td>\n",
       "    </tr>\n",
       "    <tr>\n",
       "      <th>1</th>\n",
       "      <td>11</td>\n",
       "      <td>0.625616</td>\n",
       "      <td>1.257576</td>\n",
       "      <td>0.141026</td>\n",
       "      <td>0.015086</td>\n",
       "      <td>0.168189</td>\n",
       "      <td>0.552900</td>\n",
       "      <td>3008.0</td>\n",
       "      <td>1.0</td>\n",
       "      <td>0.541771</td>\n",
       "    </tr>\n",
       "    <tr>\n",
       "      <th>2</th>\n",
       "      <td>9</td>\n",
       "      <td>0.386685</td>\n",
       "      <td>2.024000</td>\n",
       "      <td>0.630350</td>\n",
       "      <td>0.033935</td>\n",
       "      <td>0.192652</td>\n",
       "      <td>0.126582</td>\n",
       "      <td>11008.0</td>\n",
       "      <td>5.0</td>\n",
       "      <td>0.466926</td>\n",
       "    </tr>\n",
       "    <tr>\n",
       "      <th>3</th>\n",
       "      <td>7</td>\n",
       "      <td>0.475039</td>\n",
       "      <td>1.665254</td>\n",
       "      <td>0.419580</td>\n",
       "      <td>0.036530</td>\n",
       "      <td>0.198000</td>\n",
       "      <td>0.135593</td>\n",
       "      <td>4585.0</td>\n",
       "      <td>5.0</td>\n",
       "      <td>0.244755</td>\n",
       "    </tr>\n",
       "    <tr>\n",
       "      <th>4</th>\n",
       "      <td>2</td>\n",
       "      <td>0.535009</td>\n",
       "      <td>0.181818</td>\n",
       "      <td>0.036364</td>\n",
       "      <td>0.015152</td>\n",
       "      <td>0.241564</td>\n",
       "      <td>0.054217</td>\n",
       "      <td>1745.0</td>\n",
       "      <td>1.0</td>\n",
       "      <td>0.072727</td>\n",
       "    </tr>\n",
       "  </tbody>\n",
       "</table>\n",
       "</div>"
      ],
      "text/plain": [
       "   alchemy_category  alchemy_category_score  avgLinkWordLength  \\\n",
       "0                11                0.625616           1.916667   \n",
       "1                11                0.625616           1.257576   \n",
       "2                 9                0.386685           2.024000   \n",
       "3                 7                0.475039           1.665254   \n",
       "4                 2                0.535009           0.181818   \n",
       "\n",
       "   AvglinkWithOneCommonWord  frameTagRatio  tagRatio  imageTagRatio  \\\n",
       "0                  0.047619       0.027778  0.203161       0.552900   \n",
       "1                  0.141026       0.015086  0.168189       0.552900   \n",
       "2                  0.630350       0.033935  0.192652       0.126582   \n",
       "3                  0.419580       0.036530  0.198000       0.135593   \n",
       "4                  0.036364       0.015152  0.241564       0.054217   \n",
       "\n",
       "   alphanumCharCount  wordCount  parametrizedLinkRatio  \n",
       "0              682.0        1.0               0.531746  \n",
       "1             3008.0        1.0               0.541771  \n",
       "2            11008.0        5.0               0.466926  \n",
       "3             4585.0        5.0               0.244755  \n",
       "4             1745.0        1.0               0.072727  "
      ]
     },
     "execution_count": 297,
     "metadata": {},
     "output_type": "execute_result"
    }
   ],
   "source": [
    "df_new = df[columns_after_coorelation]\n",
    "df_new.head()"
   ]
  },
  {
   "cell_type": "code",
   "execution_count": 298,
   "metadata": {},
   "outputs": [
    {
     "data": {
      "text/plain": [
       "(7395, 10)"
      ]
     },
     "execution_count": 298,
     "metadata": {},
     "output_type": "execute_result"
    }
   ],
   "source": [
    "df_scaled = StandardScaler().fit_transform(df_new)\n",
    "df_scaled = pd.DataFrame(df_scaled)\n",
    "df_scaled.shape"
   ]
  },
  {
   "cell_type": "code",
   "execution_count": 299,
   "metadata": {},
   "outputs": [
    {
     "data": {
      "text/plain": [
       "(7395, 12)"
      ]
     },
     "execution_count": 299,
     "metadata": {},
     "output_type": "execute_result"
    }
   ],
   "source": [
    "df_of_id_label = df_of_id_label.reset_index(drop=True)\n",
    "df_all_features = pd.merge(df_scaled,df_of_id_label,left_index=True, right_index=True)\n",
    "df_all_features.shape"
   ]
  },
  {
   "cell_type": "code",
   "execution_count": 300,
   "metadata": {},
   "outputs": [
    {
     "data": {
      "text/plain": [
       "(7395, 22936)"
      ]
     },
     "execution_count": 300,
     "metadata": {},
     "output_type": "execute_result"
    }
   ],
   "source": [
    "# df_scaled = df_scaled.reset_index(drop=True)\n",
    "# tf_idf_df = tf_idf_df.reset_index(drop=True)\n",
    "df_final = pd.merge(df_all_features,tf_idf_df, left_index=True, right_index=True)\n",
    "df_final.shape"
   ]
  },
  {
   "cell_type": "markdown",
   "metadata": {},
   "source": [
    "### Splitting the combined dataset"
   ]
  },
  {
   "cell_type": "code",
   "execution_count": 301,
   "metadata": {},
   "outputs": [
    {
     "data": {
      "text/plain": [
       "((5916, 22936), (1479, 22935))"
      ]
     },
     "execution_count": 301,
     "metadata": {},
     "output_type": "execute_result"
    }
   ],
   "source": [
    "kaggle_train_df = df_final.loc[df_final[\"label\"].isna() == False,:]\n",
    "kaggle_test_df = df_final.loc[df_final[\"label\"].isna(),:].drop(columns=\"label\")\n",
    "kaggle_train_df.shape, kaggle_test_df.shape"
   ]
  },
  {
   "cell_type": "markdown",
   "metadata": {},
   "source": [
    "# Splitting the Data"
   ]
  },
  {
   "cell_type": "code",
   "execution_count": 302,
   "metadata": {},
   "outputs": [],
   "source": [
    "kaggle_train_df.drop(columns=\"id\", inplace=True)\n",
    "test_df = kaggle_test_df.drop(\"id\", axis=1)\n",
    "\n",
    "main_X = kaggle_train_df.drop(\"label\", axis=1)\n",
    "main_y = kaggle_train_df[\"label\"]\n",
    "\n",
    "train_X, test_X, train_y, test_y = model_selection.train_test_split(main_X, main_y, train_size=0.7, random_state=0)"
   ]
  },
  {
   "cell_type": "markdown",
   "metadata": {},
   "source": [
    "# Models"
   ]
  },
  {
   "cell_type": "markdown",
   "metadata": {},
   "source": [
    "## Logistic Regression Model"
   ]
  },
  {
   "cell_type": "code",
   "execution_count": 303,
   "metadata": {},
   "outputs": [
    {
     "data": {
      "text/plain": [
       "0.8820226431194478"
      ]
     },
     "execution_count": 303,
     "metadata": {},
     "output_type": "execute_result"
    }
   ],
   "source": [
    "LR_model = LogisticRegression(penalty='l2', dual=False, tol=0.0001, C=1.0, fit_intercept=True, intercept_scaling=1, class_weight=None, random_state=None, \n",
    "                                solver='lbfgs', max_iter=10000, multi_class='auto', verbose=0, warm_start=False, n_jobs=None, l1_ratio=None)\n",
    "LR_model.fit(train_X, train_y)\n",
    "\n",
    "lr_probs = LR_model.predict_proba(test_X)[:, 1]\n",
    "lr_auc = roc_auc_score(test_y, lr_probs)\n",
    "lr_auc"
   ]
  },
  {
   "cell_type": "markdown",
   "metadata": {},
   "source": [
    "### Preparing Submission for Logistic Regression"
   ]
  },
  {
   "cell_type": "code",
   "execution_count": 304,
   "metadata": {},
   "outputs": [
    {
     "data": {
      "text/html": [
       "<div>\n",
       "<style scoped>\n",
       "    .dataframe tbody tr th:only-of-type {\n",
       "        vertical-align: middle;\n",
       "    }\n",
       "\n",
       "    .dataframe tbody tr th {\n",
       "        vertical-align: top;\n",
       "    }\n",
       "\n",
       "    .dataframe thead th {\n",
       "        text-align: right;\n",
       "    }\n",
       "</style>\n",
       "<table border=\"1\" class=\"dataframe\">\n",
       "  <thead>\n",
       "    <tr style=\"text-align: right;\">\n",
       "      <th></th>\n",
       "      <th>id</th>\n",
       "      <th>label</th>\n",
       "    </tr>\n",
       "  </thead>\n",
       "  <tbody>\n",
       "    <tr>\n",
       "      <th>5916</th>\n",
       "      <td>7172</td>\n",
       "      <td>0.345243</td>\n",
       "    </tr>\n",
       "    <tr>\n",
       "      <th>5917</th>\n",
       "      <td>2687</td>\n",
       "      <td>0.745420</td>\n",
       "    </tr>\n",
       "    <tr>\n",
       "      <th>5918</th>\n",
       "      <td>6990</td>\n",
       "      <td>0.942016</td>\n",
       "    </tr>\n",
       "    <tr>\n",
       "      <th>5919</th>\n",
       "      <td>5639</td>\n",
       "      <td>0.498558</td>\n",
       "    </tr>\n",
       "    <tr>\n",
       "      <th>5920</th>\n",
       "      <td>2701</td>\n",
       "      <td>0.275465</td>\n",
       "    </tr>\n",
       "  </tbody>\n",
       "</table>\n",
       "</div>"
      ],
      "text/plain": [
       "        id     label\n",
       "5916  7172  0.345243\n",
       "5917  2687  0.745420\n",
       "5918  6990  0.942016\n",
       "5919  5639  0.498558\n",
       "5920  2701  0.275465"
      ]
     },
     "execution_count": 304,
     "metadata": {},
     "output_type": "execute_result"
    }
   ],
   "source": [
    "LR_model.fit(main_X, main_y)\n",
    "lr_probas = LR_model.predict_proba(test_df)[:, 1]\n",
    "\n",
    "kaggle_test_df[\"label\"] = lr_probas\n",
    "to_submit = kaggle_test_df[[\"id\", \"label\"]]\n",
    "to_submit.to_csv(\"submission.csv\", index=False)\n",
    "to_submit.head()"
   ]
  },
  {
   "cell_type": "markdown",
   "metadata": {},
   "source": [
    "## Random Forest Model"
   ]
  },
  {
   "cell_type": "code",
   "execution_count": 306,
   "metadata": {},
   "outputs": [
    {
     "data": {
      "text/plain": [
       "0.8691309725163932"
      ]
     },
     "execution_count": 306,
     "metadata": {},
     "output_type": "execute_result"
    }
   ],
   "source": [
    "RF_model = RandomForestClassifier(n_estimators=100, criterion='gini', max_depth=None, min_samples_split=2, min_samples_leaf=1, min_weight_fraction_leaf=0.0, \n",
    "                                        max_features='auto', max_leaf_nodes=None, min_impurity_decrease=0.0, bootstrap=True, oob_score=False, n_jobs=None, \n",
    "                                            random_state=None, verbose=0, warm_start=False, class_weight=None, ccp_alpha=0.0, max_samples=None)\n",
    "RF_model.fit(train_X, train_y)\n",
    "\n",
    "rf_probs = RF_model.predict_proba(test_X)[:, 1]\n",
    "rf_auc = roc_auc_score(test_y, rf_probs)\n",
    "rf_auc"
   ]
  },
  {
   "cell_type": "markdown",
   "metadata": {},
   "source": [
    "### Preparing Submission for Random Forest"
   ]
  },
  {
   "cell_type": "code",
   "execution_count": 307,
   "metadata": {},
   "outputs": [
    {
     "data": {
      "text/html": [
       "<div>\n",
       "<style scoped>\n",
       "    .dataframe tbody tr th:only-of-type {\n",
       "        vertical-align: middle;\n",
       "    }\n",
       "\n",
       "    .dataframe tbody tr th {\n",
       "        vertical-align: top;\n",
       "    }\n",
       "\n",
       "    .dataframe thead th {\n",
       "        text-align: right;\n",
       "    }\n",
       "</style>\n",
       "<table border=\"1\" class=\"dataframe\">\n",
       "  <thead>\n",
       "    <tr style=\"text-align: right;\">\n",
       "      <th></th>\n",
       "      <th>id</th>\n",
       "      <th>label</th>\n",
       "    </tr>\n",
       "  </thead>\n",
       "  <tbody>\n",
       "    <tr>\n",
       "      <th>5916</th>\n",
       "      <td>7172</td>\n",
       "      <td>0.33</td>\n",
       "    </tr>\n",
       "    <tr>\n",
       "      <th>5917</th>\n",
       "      <td>2687</td>\n",
       "      <td>0.82</td>\n",
       "    </tr>\n",
       "    <tr>\n",
       "      <th>5918</th>\n",
       "      <td>6990</td>\n",
       "      <td>0.93</td>\n",
       "    </tr>\n",
       "    <tr>\n",
       "      <th>5919</th>\n",
       "      <td>5639</td>\n",
       "      <td>0.54</td>\n",
       "    </tr>\n",
       "    <tr>\n",
       "      <th>5920</th>\n",
       "      <td>2701</td>\n",
       "      <td>0.34</td>\n",
       "    </tr>\n",
       "  </tbody>\n",
       "</table>\n",
       "</div>"
      ],
      "text/plain": [
       "        id  label\n",
       "5916  7172   0.33\n",
       "5917  2687   0.82\n",
       "5918  6990   0.93\n",
       "5919  5639   0.54\n",
       "5920  2701   0.34"
      ]
     },
     "execution_count": 307,
     "metadata": {},
     "output_type": "execute_result"
    }
   ],
   "source": [
    "RF_model.fit(main_X, main_y)\n",
    "rf_probas = RF_model.predict_proba(test_df)[:, 1]\n",
    "\n",
    "kaggle_test_df[\"label\"] = rf_probas\n",
    "to_submit = kaggle_test_df[[\"id\", \"label\"]]\n",
    "to_submit.to_csv(\"submission2.csv\", index=False)\n",
    "to_submit.head()"
   ]
  },
  {
   "cell_type": "markdown",
   "metadata": {},
   "source": [
    "## Naive Bayes Model"
   ]
  },
  {
   "cell_type": "code",
   "execution_count": 308,
   "metadata": {},
   "outputs": [
    {
     "data": {
      "text/plain": [
       "0.7328392531529198"
      ]
     },
     "execution_count": 308,
     "metadata": {},
     "output_type": "execute_result"
    }
   ],
   "source": [
    "from sklearn.naive_bayes import GaussianNB\n",
    "\n",
    "NB_model = GaussianNB()\n",
    "NB_model.fit(train_X, train_y)\n",
    "\n",
    "nb_probs = NB_model.predict_proba(test_X)[:, 1]\n",
    "nb_auc = roc_auc_score(test_y, nb_probs)\n",
    "nb_auc"
   ]
  }
 ],
 "metadata": {
  "interpreter": {
   "hash": "37e453ecad93222b3893a0432353767c667ade6ad10eac688a0429981785f0e6"
  },
  "kernelspec": {
   "display_name": "Python 3.8.8 64-bit ('base': conda)",
   "name": "python3"
  },
  "language_info": {
   "codemirror_mode": {
    "name": "ipython",
    "version": 3
   },
   "file_extension": ".py",
   "mimetype": "text/x-python",
   "name": "python",
   "nbconvert_exporter": "python",
   "pygments_lexer": "ipython3",
   "version": "3.9.7"
  },
  "orig_nbformat": 4
 },
 "nbformat": 4,
 "nbformat_minor": 2
}
